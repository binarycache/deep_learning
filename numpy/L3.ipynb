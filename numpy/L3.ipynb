{
 "cells": [
  {
   "cell_type": "markdown",
   "id": "b14b57d5",
   "metadata": {},
   "source": [
    "# Array Indexing"
   ]
  },
  {
   "cell_type": "code",
   "execution_count": 1,
   "id": "b18c0c42",
   "metadata": {},
   "outputs": [],
   "source": [
    "import numpy as np"
   ]
  },
  {
   "cell_type": "code",
   "execution_count": 2,
   "id": "71e08314",
   "metadata": {},
   "outputs": [],
   "source": [
    "foo = np.arange(3*2*4).reshape(3,2,4)"
   ]
  },
  {
   "cell_type": "code",
   "execution_count": 3,
   "id": "ceac714a",
   "metadata": {},
   "outputs": [
    {
     "data": {
      "text/plain": [
       "array([[[ 0,  1,  2,  3],\n",
       "        [ 4,  5,  6,  7]],\n",
       "\n",
       "       [[ 8,  9, 10, 11],\n",
       "        [12, 13, 14, 15]],\n",
       "\n",
       "       [[16, 17, 18, 19],\n",
       "        [20, 21, 22, 23]]])"
      ]
     },
     "execution_count": 3,
     "metadata": {},
     "output_type": "execute_result"
    }
   ],
   "source": [
    "foo"
   ]
  },
  {
   "cell_type": "code",
   "execution_count": 4,
   "id": "31418a49",
   "metadata": {},
   "outputs": [
    {
     "data": {
      "text/plain": [
       "array([[ 0,  4],\n",
       "       [ 8, 12],\n",
       "       [16, 20]])"
      ]
     },
     "execution_count": 4,
     "metadata": {},
     "output_type": "execute_result"
    }
   ],
   "source": [
    "foo[:,:,0]  # returns a 2D array"
   ]
  },
  {
   "cell_type": "code",
   "execution_count": 5,
   "id": "0bbb34f5",
   "metadata": {},
   "outputs": [
    {
     "data": {
      "text/plain": [
       "array([[[ 0,  1],\n",
       "        [ 4,  5]],\n",
       "\n",
       "       [[ 8,  9],\n",
       "        [12, 13]],\n",
       "\n",
       "       [[16, 17],\n",
       "        [20, 21]]])"
      ]
     },
     "execution_count": 5,
     "metadata": {},
     "output_type": "execute_result"
    }
   ],
   "source": [
    "foo[:,:,[0,1]] # returns a 3d array"
   ]
  },
  {
   "cell_type": "code",
   "execution_count": 7,
   "id": "4ac17aeb",
   "metadata": {},
   "outputs": [
    {
     "data": {
      "text/plain": [
       "array([[ 0, 17],\n",
       "       [16,  2],\n",
       "       [12, 15]])"
      ]
     },
     "execution_count": 7,
     "metadata": {},
     "output_type": "execute_result"
    }
   ],
   "source": [
    "foo[ [[0,2],[2,0],[1,1]],\n",
    "               [[0,0],[0,0],[1,1]],\n",
    "                           [[0,1],[0,2],[0,3]]\n",
    "   ]"
   ]
  },
  {
   "cell_type": "code",
   "execution_count": 8,
   "id": "e250c6aa",
   "metadata": {},
   "outputs": [],
   "source": [
    "foo = np.array([\n",
    "    [10,20,30,40],\n",
    "    [50,60,70,80]\n",
    "])"
   ]
  },
  {
   "cell_type": "code",
   "execution_count": 9,
   "id": "b4f3357d",
   "metadata": {},
   "outputs": [
    {
     "data": {
      "text/plain": [
       "60"
      ]
     },
     "execution_count": 9,
     "metadata": {},
     "output_type": "execute_result"
    }
   ],
   "source": [
    "foo[1,1] # assuming 8 byte int, we need to move to the second row i.e. 4x8 + 1x8 = 40 bytes to get to the element"
   ]
  },
  {
   "cell_type": "code",
   "execution_count": 10,
   "id": "7fd1e48d",
   "metadata": {},
   "outputs": [
    {
     "data": {
      "text/plain": [
       "(32, 8)"
      ]
     },
     "execution_count": 10,
     "metadata": {},
     "output_type": "execute_result"
    }
   ],
   "source": [
    "foo.strides"
   ]
  },
  {
   "cell_type": "code",
   "execution_count": 11,
   "id": "c76f0973",
   "metadata": {},
   "outputs": [],
   "source": [
    "bar  = np.lib.stride_tricks.as_strided(\n",
    "            x=foo,shape=(3,4),strides=(16,8)) # 16 bytes across rows and 8 bytes across columns"
   ]
  },
  {
   "cell_type": "code",
   "execution_count": 12,
   "id": "47186e27",
   "metadata": {},
   "outputs": [
    {
     "data": {
      "text/plain": [
       "array([[10, 20, 30, 40],\n",
       "       [30, 40, 50, 60],\n",
       "       [50, 60, 70, 80]])"
      ]
     },
     "execution_count": 12,
     "metadata": {},
     "output_type": "execute_result"
    }
   ],
   "source": [
    "bar"
   ]
  },
  {
   "cell_type": "code",
   "execution_count": 13,
   "id": "71d73818",
   "metadata": {},
   "outputs": [
    {
     "data": {
      "text/plain": [
       "30"
      ]
     },
     "execution_count": 13,
     "metadata": {},
     "output_type": "execute_result"
    }
   ],
   "source": [
    "bar[1,0]"
   ]
  },
  {
   "cell_type": "markdown",
   "id": "42f3d0af",
   "metadata": {},
   "source": [
    "# Einsum"
   ]
  },
  {
   "cell_type": "code",
   "execution_count": 14,
   "id": "9466ed64",
   "metadata": {},
   "outputs": [],
   "source": [
    "a = np.array([0,1,2,3])\n",
    "b = np.array([4,5,6,7])"
   ]
  },
  {
   "cell_type": "code",
   "execution_count": 15,
   "id": "b0be10a0",
   "metadata": {},
   "outputs": [
    {
     "data": {
      "text/plain": [
       "array([ 0, 22, 44, 66])"
      ]
     },
     "execution_count": 15,
     "metadata": {},
     "output_type": "execute_result"
    }
   ],
   "source": [
    "np.einsum('i,j->i',a,b) # https://www.youtube.com/watch?v=ULY6pncbRY8"
   ]
  },
  {
   "cell_type": "code",
   "execution_count": 16,
   "id": "968d4027",
   "metadata": {},
   "outputs": [
    {
     "data": {
      "text/plain": [
       "132"
      ]
     },
     "execution_count": 16,
     "metadata": {},
     "output_type": "execute_result"
    }
   ],
   "source": [
    "np.einsum('i,j->',a,b) # for each i for each j output += Ai * Bj"
   ]
  },
  {
   "cell_type": "code",
   "execution_count": 17,
   "id": "57d8d4bc",
   "metadata": {},
   "outputs": [],
   "source": [
    "labels = np.array([3,1,0,1])"
   ]
  },
  {
   "cell_type": "code",
   "execution_count": 20,
   "id": "9658b4cb",
   "metadata": {},
   "outputs": [],
   "source": [
    "one_hot_labels = np.lib.stride_tricks.as_strided(labels,shape=(4,4))"
   ]
  },
  {
   "cell_type": "code",
   "execution_count": 21,
   "id": "de1cb83f",
   "metadata": {},
   "outputs": [
    {
     "data": {
      "text/plain": [
       "array([[                3,                 1,                 0,\n",
       "                        1],\n",
       "       [               48,               529,          31612848,\n",
       "                 16076816],\n",
       "       [                0,                 0,                 0,\n",
       "                        0],\n",
       "       [                0,                 0, 72340172838076672,\n",
       "        72340172838076673]])"
      ]
     },
     "execution_count": 21,
     "metadata": {},
     "output_type": "execute_result"
    }
   ],
   "source": [
    "one_hot_labels"
   ]
  },
  {
   "cell_type": "code",
   "execution_count": null,
   "id": "fad6fa8d",
   "metadata": {},
   "outputs": [],
   "source": []
  }
 ],
 "metadata": {
  "kernelspec": {
   "display_name": "Python 3 (ipykernel)",
   "language": "python",
   "name": "python3"
  },
  "language_info": {
   "codemirror_mode": {
    "name": "ipython",
    "version": 3
   },
   "file_extension": ".py",
   "mimetype": "text/x-python",
   "name": "python",
   "nbconvert_exporter": "python",
   "pygments_lexer": "ipython3",
   "version": "3.8.10"
  }
 },
 "nbformat": 4,
 "nbformat_minor": 5
}
