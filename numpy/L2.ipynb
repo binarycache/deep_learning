{
 "cells": [
  {
   "cell_type": "markdown",
   "id": "34573f71",
   "metadata": {},
   "source": [
    "# BroadCasting"
   ]
  },
  {
   "cell_type": "code",
   "execution_count": 1,
   "id": "dc88e8ce",
   "metadata": {},
   "outputs": [],
   "source": [
    "import numpy as np"
   ]
  },
  {
   "cell_type": "code",
   "execution_count": 72,
   "id": "48f6b7fb",
   "metadata": {},
   "outputs": [
    {
     "data": {
      "text/plain": [
       "array([1.5, 2.5, 3.5])"
      ]
     },
     "execution_count": 72,
     "metadata": {},
     "output_type": "execute_result"
    }
   ],
   "source": [
    "np.array([1,2,3]) + 0.5"
   ]
  },
  {
   "cell_type": "code",
   "execution_count": 74,
   "id": "dc9ac275",
   "metadata": {},
   "outputs": [
    {
     "data": {
      "text/plain": [
       "array([[0, 2, 4],\n",
       "       [3, 5, 7]])"
      ]
     },
     "execution_count": 74,
     "metadata": {},
     "output_type": "execute_result"
    }
   ],
   "source": [
    "np.array([[1,2,3],[4,5,6]]) + np.array([-1,0,1])"
   ]
  },
  {
   "cell_type": "code",
   "execution_count": 75,
   "id": "1ce07cfc",
   "metadata": {},
   "outputs": [
    {
     "ename": "ValueError",
     "evalue": "operands could not be broadcast together with shapes (2,3) (2,) ",
     "output_type": "error",
     "traceback": [
      "\u001b[0;31m---------------------------------------------------------------------------\u001b[0m",
      "\u001b[0;31mValueError\u001b[0m                                Traceback (most recent call last)",
      "\u001b[0;32m/tmp/ipykernel_3014562/1744984929.py\u001b[0m in \u001b[0;36m<module>\u001b[0;34m\u001b[0m\n\u001b[0;32m----> 1\u001b[0;31m \u001b[0mnp\u001b[0m\u001b[0;34m.\u001b[0m\u001b[0marray\u001b[0m\u001b[0;34m(\u001b[0m\u001b[0;34m[\u001b[0m\u001b[0;34m[\u001b[0m\u001b[0;36m1\u001b[0m\u001b[0;34m,\u001b[0m\u001b[0;36m2\u001b[0m\u001b[0;34m,\u001b[0m\u001b[0;36m3\u001b[0m\u001b[0;34m]\u001b[0m\u001b[0;34m,\u001b[0m\u001b[0;34m[\u001b[0m\u001b[0;36m4\u001b[0m\u001b[0;34m,\u001b[0m\u001b[0;36m5\u001b[0m\u001b[0;34m,\u001b[0m\u001b[0;36m6\u001b[0m\u001b[0;34m]\u001b[0m\u001b[0;34m]\u001b[0m\u001b[0;34m)\u001b[0m \u001b[0;34m+\u001b[0m \u001b[0mnp\u001b[0m\u001b[0;34m.\u001b[0m\u001b[0marray\u001b[0m\u001b[0;34m(\u001b[0m\u001b[0;34m[\u001b[0m\u001b[0;34m-\u001b[0m\u001b[0;36m1\u001b[0m\u001b[0;34m,\u001b[0m\u001b[0;36m0\u001b[0m\u001b[0;34m]\u001b[0m\u001b[0;34m)\u001b[0m\u001b[0;34m\u001b[0m\u001b[0;34m\u001b[0m\u001b[0m\n\u001b[0m",
      "\u001b[0;31mValueError\u001b[0m: operands could not be broadcast together with shapes (2,3) (2,) "
     ]
    }
   ],
   "source": [
    "np.array([[1,2,3],[4,5,6]]) + np.array([-1,0])"
   ]
  },
  {
   "cell_type": "markdown",
   "id": "6a3cc633",
   "metadata": {},
   "source": [
    "### Broadcasting Rules\n",
    "\n",
    "Move backwards from last dimension, check if they are compatible \n",
    "i.e., either they are equal or one of them is 1.\n"
   ]
  },
  {
   "cell_type": "code",
   "execution_count": 76,
   "id": "0f79fb53",
   "metadata": {},
   "outputs": [],
   "source": [
    "foo = np.array([[1,2,3],[4,5,6]]) "
   ]
  },
  {
   "cell_type": "code",
   "execution_count": 83,
   "id": "8d0bfb3a",
   "metadata": {},
   "outputs": [],
   "source": [
    "boo = np.array([-2,2])"
   ]
  },
  {
   "cell_type": "code",
   "execution_count": 84,
   "id": "794e6aac",
   "metadata": {},
   "outputs": [
    {
     "data": {
      "text/plain": [
       "((2, 3), (2,))"
      ]
     },
     "execution_count": 84,
     "metadata": {},
     "output_type": "execute_result"
    }
   ],
   "source": [
    "foo.shape, boo.shape"
   ]
  },
  {
   "cell_type": "code",
   "execution_count": 85,
   "id": "93b9b223",
   "metadata": {},
   "outputs": [],
   "source": [
    "boo = boo.reshape(2,1)"
   ]
  },
  {
   "cell_type": "code",
   "execution_count": 86,
   "id": "d6a2c402",
   "metadata": {},
   "outputs": [
    {
     "data": {
      "text/plain": [
       "(2, 1)"
      ]
     },
     "execution_count": 86,
     "metadata": {},
     "output_type": "execute_result"
    }
   ],
   "source": [
    "boo.shape"
   ]
  },
  {
   "cell_type": "code",
   "execution_count": 87,
   "id": "fa8b3045",
   "metadata": {},
   "outputs": [
    {
     "data": {
      "text/plain": [
       "array([[-2],\n",
       "       [ 2]])"
      ]
     },
     "execution_count": 87,
     "metadata": {},
     "output_type": "execute_result"
    }
   ],
   "source": [
    "boo"
   ]
  },
  {
   "cell_type": "code",
   "execution_count": 88,
   "id": "fbb70a4f",
   "metadata": {},
   "outputs": [
    {
     "data": {
      "text/plain": [
       "array([[-1,  0,  1],\n",
       "       [ 6,  7,  8]])"
      ]
     },
     "execution_count": 88,
     "metadata": {},
     "output_type": "execute_result"
    }
   ],
   "source": [
    "foo + boo # numpy will just copy the numbers in the unequal dimension "
   ]
  },
  {
   "cell_type": "markdown",
   "id": "f770040c",
   "metadata": {},
   "source": [
    "# Reshaping"
   ]
  },
  {
   "cell_type": "code",
   "execution_count": 91,
   "id": "3cfef081",
   "metadata": {},
   "outputs": [],
   "source": [
    "foo = np.random.rand(2,4)"
   ]
  },
  {
   "cell_type": "code",
   "execution_count": 92,
   "id": "4af2967c",
   "metadata": {},
   "outputs": [
    {
     "data": {
      "text/plain": [
       "array([[0.96028685, 0.43952924, 0.15776012, 0.12841449],\n",
       "       [0.47250879, 0.60664552, 0.97463936, 0.94992592]])"
      ]
     },
     "execution_count": 92,
     "metadata": {},
     "output_type": "execute_result"
    }
   ],
   "source": [
    "foo"
   ]
  },
  {
   "cell_type": "code",
   "execution_count": 94,
   "id": "e0682a6b",
   "metadata": {},
   "outputs": [
    {
     "data": {
      "text/plain": [
       "array([[0.96028685, 0.43952924],\n",
       "       [0.15776012, 0.12841449],\n",
       "       [0.47250879, 0.60664552],\n",
       "       [0.97463936, 0.94992592]])"
      ]
     },
     "execution_count": 94,
     "metadata": {},
     "output_type": "execute_result"
    }
   ],
   "source": [
    "foo.reshape(4,2, order='C') # C style i.e., row major, i.e. first all the first axis elements are converted"
   ]
  },
  {
   "cell_type": "code",
   "execution_count": 95,
   "id": "8fb4744e",
   "metadata": {},
   "outputs": [
    {
     "data": {
      "text/plain": [
       "array([[0.96028685, 0.15776012],\n",
       "       [0.47250879, 0.97463936],\n",
       "       [0.43952924, 0.12841449],\n",
       "       [0.60664552, 0.94992592]])"
      ]
     },
     "execution_count": 95,
     "metadata": {},
     "output_type": "execute_result"
    }
   ],
   "source": [
    "foo.reshape(4,2, order='F') # Fortran style or column major order "
   ]
  },
  {
   "cell_type": "code",
   "execution_count": 96,
   "id": "a2fd8843",
   "metadata": {},
   "outputs": [
    {
     "data": {
      "text/plain": [
       "array([[[0.96028685, 0.43952924],\n",
       "        [0.15776012, 0.12841449]],\n",
       "\n",
       "       [[0.47250879, 0.60664552],\n",
       "        [0.97463936, 0.94992592]]])"
      ]
     },
     "execution_count": 96,
     "metadata": {},
     "output_type": "execute_result"
    }
   ],
   "source": [
    "foo.reshape(2,2,2, order='C') "
   ]
  },
  {
   "cell_type": "code",
   "execution_count": 97,
   "id": "3361efd3",
   "metadata": {},
   "outputs": [
    {
     "data": {
      "text/plain": [
       "array([[[0.96028685, 0.15776012],\n",
       "        [0.43952924, 0.12841449]],\n",
       "\n",
       "       [[0.47250879, 0.97463936],\n",
       "        [0.60664552, 0.94992592]]])"
      ]
     },
     "execution_count": 97,
     "metadata": {},
     "output_type": "execute_result"
    }
   ],
   "source": [
    "foo.reshape(2,2,2, order='F') "
   ]
  },
  {
   "cell_type": "code",
   "execution_count": 102,
   "id": "f7630d1d",
   "metadata": {},
   "outputs": [],
   "source": [
    "bar = np.array([[1,2,3,4],[5,6,7,8]])"
   ]
  },
  {
   "cell_type": "code",
   "execution_count": 103,
   "id": "67cf99e6",
   "metadata": {},
   "outputs": [
    {
     "data": {
      "text/plain": [
       "(2, 4)"
      ]
     },
     "execution_count": 103,
     "metadata": {},
     "output_type": "execute_result"
    }
   ],
   "source": [
    "bar.shape"
   ]
  },
  {
   "cell_type": "code",
   "execution_count": 104,
   "id": "5f20a4d5",
   "metadata": {},
   "outputs": [
    {
     "data": {
      "text/plain": [
       "array([[[1, 3],\n",
       "        [2, 4]],\n",
       "\n",
       "       [[5, 7],\n",
       "        [6, 8]]])"
      ]
     },
     "execution_count": 104,
     "metadata": {},
     "output_type": "execute_result"
    }
   ],
   "source": [
    "bar.reshape(2,2,2,order='F')"
   ]
  },
  {
   "cell_type": "code",
   "execution_count": 105,
   "id": "eaaeebbf",
   "metadata": {},
   "outputs": [],
   "source": [
    "bar.shape =(2,2,2)"
   ]
  },
  {
   "cell_type": "code",
   "execution_count": 106,
   "id": "df292ad3",
   "metadata": {},
   "outputs": [
    {
     "data": {
      "text/plain": [
       "array([[[1, 2],\n",
       "        [3, 4]],\n",
       "\n",
       "       [[5, 6],\n",
       "        [7, 8]]])"
      ]
     },
     "execution_count": 106,
     "metadata": {},
     "output_type": "execute_result"
    }
   ],
   "source": [
    "bar"
   ]
  },
  {
   "cell_type": "code",
   "execution_count": 107,
   "id": "38cadc2f",
   "metadata": {},
   "outputs": [],
   "source": [
    "bots = np.random.rand(2,3)"
   ]
  },
  {
   "cell_type": "code",
   "execution_count": 108,
   "id": "ab26bbd8",
   "metadata": {},
   "outputs": [],
   "source": [
    "bots[[0,1],[1,0]] = np.nan"
   ]
  },
  {
   "cell_type": "code",
   "execution_count": 109,
   "id": "41973578",
   "metadata": {},
   "outputs": [
    {
     "data": {
      "text/plain": [
       "array([[0.78289429,        nan, 0.54084695],\n",
       "       [       nan, 0.33980781, 0.36465638]])"
      ]
     },
     "execution_count": 109,
     "metadata": {},
     "output_type": "execute_result"
    }
   ],
   "source": [
    "bots"
   ]
  },
  {
   "cell_type": "code",
   "execution_count": 110,
   "id": "9c5b647e",
   "metadata": {},
   "outputs": [
    {
     "data": {
      "text/plain": [
       "array([[False, False, False],\n",
       "       [False, False, False]])"
      ]
     },
     "execution_count": 110,
     "metadata": {},
     "output_type": "execute_result"
    }
   ],
   "source": [
    "bots == np.nan"
   ]
  },
  {
   "cell_type": "code",
   "execution_count": 111,
   "id": "0f4cec2f",
   "metadata": {},
   "outputs": [
    {
     "data": {
      "text/plain": [
       "False"
      ]
     },
     "execution_count": 111,
     "metadata": {},
     "output_type": "execute_result"
    }
   ],
   "source": [
    "np.nan == np.nan"
   ]
  },
  {
   "cell_type": "code",
   "execution_count": 112,
   "id": "75201988",
   "metadata": {},
   "outputs": [
    {
     "data": {
      "text/plain": [
       "True"
      ]
     },
     "execution_count": 112,
     "metadata": {},
     "output_type": "execute_result"
    }
   ],
   "source": [
    "np.nan != np.nan"
   ]
  },
  {
   "cell_type": "markdown",
   "id": "fe58bc50",
   "metadata": {},
   "source": [
    "# Equivalence between NANs are not defined"
   ]
  },
  {
   "cell_type": "code",
   "execution_count": 113,
   "id": "4e0f3428",
   "metadata": {},
   "outputs": [
    {
     "data": {
      "text/plain": [
       "array([[False,  True, False],\n",
       "       [ True, False, False]])"
      ]
     },
     "execution_count": 113,
     "metadata": {},
     "output_type": "execute_result"
    }
   ],
   "source": [
    "np.isnan(bots) #only work for floats"
   ]
  },
  {
   "cell_type": "code",
   "execution_count": 115,
   "id": "74396d5f",
   "metadata": {},
   "outputs": [
    {
     "data": {
      "text/plain": [
       "array([ inf, -inf])"
      ]
     },
     "execution_count": 115,
     "metadata": {},
     "output_type": "execute_result"
    }
   ],
   "source": [
    "np.array([np.inf,np.NINF])"
   ]
  },
  {
   "cell_type": "code",
   "execution_count": 116,
   "id": "a94a7b12",
   "metadata": {},
   "outputs": [
    {
     "data": {
      "text/plain": [
       "(True, True)"
      ]
     },
     "execution_count": 116,
     "metadata": {},
     "output_type": "execute_result"
    }
   ],
   "source": [
    "np.inf == np.inf, np.NINF == np.NINF"
   ]
  },
  {
   "cell_type": "markdown",
   "id": "7479b509",
   "metadata": {},
   "source": [
    "# Excercises"
   ]
  },
  {
   "cell_type": "code",
   "execution_count": 117,
   "id": "697bddae",
   "metadata": {},
   "outputs": [],
   "source": [
    "# 100 random scores to 10 people, find score[i] - score[j]\n",
    "\n",
    "generator = np.random.default_rng(seed=42)\n",
    "\n",
    "scores = np.round(generator.uniform(low=0,high=100,size=10),2)\n"
   ]
  },
  {
   "cell_type": "code",
   "execution_count": 118,
   "id": "30c9246c",
   "metadata": {},
   "outputs": [
    {
     "data": {
      "text/plain": [
       "array([77.4 , 43.89, 85.86, 69.74,  9.42, 97.56, 76.11, 78.61, 12.81,\n",
       "       45.04])"
      ]
     },
     "execution_count": 118,
     "metadata": {},
     "output_type": "execute_result"
    }
   ],
   "source": [
    "scores"
   ]
  },
  {
   "cell_type": "code",
   "execution_count": 119,
   "id": "e1576643",
   "metadata": {},
   "outputs": [
    {
     "data": {
      "text/plain": [
       "array([[77.4 ],\n",
       "       [43.89],\n",
       "       [85.86],\n",
       "       [69.74],\n",
       "       [ 9.42],\n",
       "       [97.56],\n",
       "       [76.11],\n",
       "       [78.61],\n",
       "       [12.81],\n",
       "       [45.04]])"
      ]
     },
     "execution_count": 119,
     "metadata": {},
     "output_type": "execute_result"
    }
   ],
   "source": [
    "scores[:,None]"
   ]
  },
  {
   "cell_type": "code",
   "execution_count": 120,
   "id": "e50d8578",
   "metadata": {},
   "outputs": [
    {
     "data": {
      "text/plain": [
       "array([[77.4 , 43.89, 85.86, 69.74,  9.42, 97.56, 76.11, 78.61, 12.81,\n",
       "        45.04]])"
      ]
     },
     "execution_count": 120,
     "metadata": {},
     "output_type": "execute_result"
    }
   ],
   "source": [
    "scores[None,:]"
   ]
  },
  {
   "cell_type": "code",
   "execution_count": 122,
   "id": "7d5d8414",
   "metadata": {},
   "outputs": [
    {
     "data": {
      "text/plain": [
       "array([[ 0.  , 33.51,  8.46,  7.66, 67.98, 20.16,  1.29,  1.21, 64.59, 32.36],\n",
       "       [33.51,  0.  , 41.97, 25.85, 34.47, 53.67, 32.22, 34.72, 31.08,  1.15],\n",
       "       [ 8.46, 41.97,  0.  , 16.12, 76.44, 11.7 ,  9.75,  7.25, 73.05, 40.82],\n",
       "       [ 7.66, 25.85, 16.12,  0.  , 60.32, 27.82,  6.37,  8.87, 56.93, 24.7 ],\n",
       "       [67.98, 34.47, 76.44, 60.32,  0.  , 88.14, 66.69, 69.19,  3.39, 35.62],\n",
       "       [20.16, 53.67, 11.7 , 27.82, 88.14,  0.  , 21.45, 18.95, 84.75, 52.52],\n",
       "       [ 1.29, 32.22,  9.75,  6.37, 66.69, 21.45,  0.  ,  2.5 , 63.3 , 31.07],\n",
       "       [ 1.21, 34.72,  7.25,  8.87, 69.19, 18.95,  2.5 ,  0.  , 65.8 , 33.57],\n",
       "       [64.59, 31.08, 73.05, 56.93,  3.39, 84.75, 63.3 , 65.8 ,  0.  , 32.23],\n",
       "       [32.36,  1.15, 40.82, 24.7 , 35.62, 52.52, 31.07, 33.57, 32.23,  0.  ]])"
      ]
     },
     "execution_count": 122,
     "metadata": {},
     "output_type": "execute_result"
    }
   ],
   "source": [
    "np.set_printoptions(linewidth=999)\n",
    "np.abs(scores[:,None] - scores[None,:])"
   ]
  },
  {
   "cell_type": "code",
   "execution_count": 132,
   "id": "4d6f95c7",
   "metadata": {},
   "outputs": [
    {
     "data": {
      "text/plain": [
       "array([16, 75, 70, 35,  6, 97, 44, 89, 67, 77])"
      ]
     },
     "execution_count": 132,
     "metadata": {},
     "output_type": "execute_result"
    }
   ],
   "source": [
    "# Identify first three values < 60 and change them 0\n",
    "scores = np.round(generator.integers(low=0,high=100,size=10),2)\n",
    "scores"
   ]
  },
  {
   "cell_type": "code",
   "execution_count": 133,
   "id": "90ae97d5",
   "metadata": {},
   "outputs": [
    {
     "data": {
      "text/plain": [
       "array([ 0, 75, 70,  0,  0, 97, 44, 89, 67, 77])"
      ]
     },
     "execution_count": 133,
     "metadata": {},
     "output_type": "execute_result"
    }
   ],
   "source": [
    "scores[np.argwhere(scores<60)[:3]]=0\n",
    "scores"
   ]
  },
  {
   "cell_type": "code",
   "execution_count": null,
   "id": "648b794e",
   "metadata": {},
   "outputs": [],
   "source": []
  }
 ],
 "metadata": {
  "kernelspec": {
   "display_name": "Python 3 (ipykernel)",
   "language": "python",
   "name": "python3"
  },
  "language_info": {
   "codemirror_mode": {
    "name": "ipython",
    "version": 3
   },
   "file_extension": ".py",
   "mimetype": "text/x-python",
   "name": "python",
   "nbconvert_exporter": "python",
   "pygments_lexer": "ipython3",
   "version": "3.8.10"
  }
 },
 "nbformat": 4,
 "nbformat_minor": 5
}
