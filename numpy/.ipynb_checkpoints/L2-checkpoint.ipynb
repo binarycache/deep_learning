{
 "cells": [
  {
   "cell_type": "code",
   "execution_count": 1,
   "id": "3c274d0b",
   "metadata": {},
   "outputs": [],
   "source": [
    "import numpy as np"
   ]
  },
  {
   "cell_type": "code",
   "execution_count": 34,
   "id": "e5595090",
   "metadata": {},
   "outputs": [],
   "source": [
    "# Challenge 1: Video #9\n",
    "\n",
    "daily_weights = 185 - np.arange(5 * 7)/5\n",
    "print(daily_weights)\n",
    "\n",
    "# Find average weight per weekend\n",
    "\n",
    "# Assuming we start on monday, we would want weights for every 5th and 6th elements of the array\n",
    "\n",
    "daily_weights.ndim, daily_weights.shape\n",
    "\n",
    "saturdays = daily_weights[5::7]\n",
    "sundays = daily_weights[6::7]\n",
    "\n",
    "saturdays, sundays\n",
    "\n",
    "weekends = np.column_stack((saturdays, sundays))\n",
    "\n",
    "weekends\n",
    "\n",
    "np.mean(weekends,axis=1)"
   ]
  },
  {
   "cell_type": "code",
   "execution_count": 35,
   "id": "68388a39",
   "metadata": {},
   "outputs": [],
   "source": [
    "# Challenge 2: Video #10\n",
    "\n",
    "# 7x7 grid of land, access five locations and sum them.\n",
    "\n",
    "land = np.random.randint(low=0,high=10,size=(7,7))\n",
    "\n",
    "locs = np.array([\n",
    "    [0,4], [2,2], [2,3], [5,1], [4,3]\n",
    "])"
   ]
  },
  {
   "cell_type": "code",
   "execution_count": 38,
   "id": "5bcb0f0d",
   "metadata": {},
   "outputs": [
    {
     "data": {
      "text/plain": [
       "array([[2, 5, 9, 9, 9, 0, 2],\n",
       "       [1, 3, 7, 0, 6, 1, 5],\n",
       "       [7, 4, 2, 0, 3, 1, 8],\n",
       "       [1, 1, 8, 6, 8, 0, 8],\n",
       "       [6, 3, 5, 6, 2, 2, 5],\n",
       "       [2, 2, 8, 1, 2, 7, 1],\n",
       "       [8, 2, 4, 3, 7, 5, 9]])"
      ]
     },
     "execution_count": 38,
     "metadata": {},
     "output_type": "execute_result"
    }
   ],
   "source": [
    "land"
   ]
  },
  {
   "cell_type": "code",
   "execution_count": 42,
   "id": "645ec10f",
   "metadata": {},
   "outputs": [
    {
     "data": {
      "text/plain": [
       "(2, (7, 7), 49, 7)"
      ]
     },
     "execution_count": 42,
     "metadata": {},
     "output_type": "execute_result"
    }
   ],
   "source": [
    "land.ndim, land.shape, land.size, len(land)"
   ]
  },
  {
   "cell_type": "code",
   "execution_count": 69,
   "id": "7d4a0982",
   "metadata": {},
   "outputs": [
    {
     "data": {
      "text/plain": [
       "array([0, 2, 2, 5, 4])"
      ]
     },
     "execution_count": 69,
     "metadata": {},
     "output_type": "execute_result"
    }
   ],
   "source": [
    "locs[:,0]"
   ]
  },
  {
   "cell_type": "code",
   "execution_count": 71,
   "id": "6a36090c",
   "metadata": {},
   "outputs": [
    {
     "data": {
      "text/plain": [
       "19"
      ]
     },
     "execution_count": 71,
     "metadata": {},
     "output_type": "execute_result"
    }
   ],
   "source": [
    "np.sum(land[locs[:,0],locs[:,1]])"
   ]
  },
  {
   "cell_type": "code",
   "execution_count": null,
   "id": "7f40ee63",
   "metadata": {},
   "outputs": [],
   "source": []
  }
 ],
 "metadata": {
  "kernelspec": {
   "display_name": "Python 3 (ipykernel)",
   "language": "python",
   "name": "python3"
  },
  "language_info": {
   "codemirror_mode": {
    "name": "ipython",
    "version": 3
   },
   "file_extension": ".py",
   "mimetype": "text/x-python",
   "name": "python",
   "nbconvert_exporter": "python",
   "pygments_lexer": "ipython3",
   "version": "3.8.10"
  }
 },
 "nbformat": 4,
 "nbformat_minor": 5
}
