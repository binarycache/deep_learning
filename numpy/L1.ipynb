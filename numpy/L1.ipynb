{
 "cells": [
  {
   "cell_type": "markdown",
   "id": "eff86d38",
   "metadata": {},
   "source": [
    "### Advantage of numpy: Faster\n",
    "\n",
    "Why? Same type of elements makes addressing faster"
   ]
  },
  {
   "cell_type": "code",
   "execution_count": 1,
   "id": "e216e1e4",
   "metadata": {},
   "outputs": [],
   "source": [
    "import numpy as np"
   ]
  },
  {
   "cell_type": "code",
   "execution_count": 4,
   "id": "8d6c0a79",
   "metadata": {},
   "outputs": [
    {
     "name": "stdout",
     "output_type": "stream",
     "text": [
      "1.19.4\n"
     ]
    }
   ],
   "source": [
    "print(np.__version__)"
   ]
  },
  {
   "cell_type": "code",
   "execution_count": 5,
   "id": "a1b871b1",
   "metadata": {},
   "outputs": [],
   "source": [
    "arr2d = np.array([\n",
    "                    [1, 2, 3, 4],\n",
    "                    [10, 11, 12, 13]\n",
    "])"
   ]
  },
  {
   "cell_type": "code",
   "execution_count": 7,
   "id": "03252f6a",
   "metadata": {},
   "outputs": [
    {
     "data": {
      "text/plain": [
       "(8, 2, 2, (2, 4), numpy.ndarray, dtype('int64'))"
      ]
     },
     "execution_count": 7,
     "metadata": {},
     "output_type": "execute_result"
    }
   ],
   "source": [
    "arr2d.size, len(arr2d), arr2d.ndim, arr2d.shape, type(arr2d), arr2d.dtype"
   ]
  },
  {
   "cell_type": "markdown",
   "id": "719e4307",
   "metadata": {},
   "source": [
    "#### Rules\n",
    "\n",
    "1. Every array object must be of the same type and size.\n",
    "2. If an array as multiple inner array, type and number of elements in each subarray must be same.\n",
    "   i.e. arrays can be rectangular not jagged."
   ]
  },
  {
   "cell_type": "code",
   "execution_count": 14,
   "id": "6b1e7fee",
   "metadata": {},
   "outputs": [],
   "source": [
    "# Let's check\n",
    "\n",
    "arr = np.array([1, 'wohh string', 2])"
   ]
  },
  {
   "cell_type": "code",
   "execution_count": 15,
   "id": "0d2c5b12",
   "metadata": {},
   "outputs": [
    {
     "data": {
      "text/plain": [
       "array(['1', 'wohh string', '2'], dtype='<U21')"
      ]
     },
     "execution_count": 15,
     "metadata": {},
     "output_type": "execute_result"
    }
   ],
   "source": [
    "arr"
   ]
  },
  {
   "cell_type": "markdown",
   "id": "d664dd6f",
   "metadata": {},
   "source": [
    "Whattt?? It implicitly converts everything to string and to keep it still fast, fizes the length of the string.\n",
    "\n",
    "dtype '<U21' means all the strings are of the maximum size of 21 characters.\n",
    "\n"
   ]
  },
  {
   "cell_type": "code",
   "execution_count": 16,
   "id": "2f014269",
   "metadata": {},
   "outputs": [
    {
     "data": {
      "text/plain": [
       "array(['1', 'can i assign it a lon', '2'], dtype='<U21')"
      ]
     },
     "execution_count": 16,
     "metadata": {},
     "output_type": "execute_result"
    }
   ],
   "source": [
    "# Check again\n",
    "arr[1] ='can i assign it a longer than 21 character string?' # You can not!\n",
    "arr"
   ]
  },
  {
   "cell_type": "code",
   "execution_count": 12,
   "id": "06db662e",
   "metadata": {},
   "outputs": [],
   "source": [
    "arr1 = np.array([1, ' I am a really long string to test whether the dtype will change'])"
   ]
  },
  {
   "cell_type": "code",
   "execution_count": 13,
   "id": "51c4e05c",
   "metadata": {},
   "outputs": [
    {
     "data": {
      "text/plain": [
       "array(['1',\n",
       "       ' I am a really long string to test whether the dtype will change'],\n",
       "      dtype='<U64')"
      ]
     },
     "execution_count": 13,
     "metadata": {},
     "output_type": "execute_result"
    }
   ],
   "source": [
    "arr1"
   ]
  },
  {
   "cell_type": "code",
   "execution_count": 17,
   "id": "e1e06d86",
   "metadata": {},
   "outputs": [
    {
     "name": "stderr",
     "output_type": "stream",
     "text": [
      "/tmp/ipykernel_3014483/351108658.py:1: VisibleDeprecationWarning: Creating an ndarray from ragged nested sequences (which is a list-or-tuple of lists-or-tuples-or ndarrays with different lengths or shapes) is deprecated. If you meant to do this, you must specify 'dtype=object' when creating the ndarray\n",
      "  arr2 = np.array([\n"
     ]
    },
    {
     "data": {
      "text/plain": [
       "array([list([1, 2]), list([3, 4, 5, 6])], dtype=object)"
      ]
     },
     "execution_count": 17,
     "metadata": {},
     "output_type": "execute_result"
    }
   ],
   "source": [
    "arr2 = np.array([\n",
    "    [1,2],\n",
    "    [3,4,5,6]\n",
    "])\n",
    "arr2"
   ]
  },
  {
   "cell_type": "markdown",
   "id": "589ff141",
   "metadata": {},
   "source": [
    "# This created a object array which is more or less same as a python list which contains pointers to the items."
   ]
  },
  {
   "cell_type": "code",
   "execution_count": 34,
   "id": "88d720d2",
   "metadata": {},
   "outputs": [],
   "source": [
    "# Challenge 1: Video #9\n",
    "\n",
    "daily_weights = 185 - np.arange(5 * 7)/5\n",
    "print(daily_weights)\n",
    "\n",
    "# Find average weight per weekend\n",
    "\n",
    "# Assuming we start on monday, we would want weights for every 5th and 6th elements of the array\n",
    "\n",
    "daily_weights.ndim, daily_weights.shape\n",
    "\n",
    "saturdays = daily_weights[5::7]\n",
    "sundays = daily_weights[6::7]\n",
    "\n",
    "saturdays, sundays\n",
    "\n",
    "weekends = np.column_stack((saturdays, sundays))\n",
    "\n",
    "weekends\n",
    "\n",
    "np.mean(weekends,axis=1)"
   ]
  },
  {
   "cell_type": "code",
   "execution_count": 71,
   "id": "d640fbab",
   "metadata": {},
   "outputs": [],
   "source": [
    "# Challenge 2: Video #10\n",
    "\n",
    "# 7x7 grid of land, access five locations and sum them.\n",
    "\n",
    "land = np.random.randint(low=0,high=10,size=(7,7))\n",
    "\n",
    "locs = np.array([\n",
    "    [0,4], [2,2], [2,3], [5,1], [4,3]\n",
    "])\n",
    "\n",
    "land\n",
    "\n",
    "land.ndim, land.shape, land.size, len(land)\n",
    "\n",
    "locs[:,0]\n",
    "\n",
    "np.sum(land[locs[:,0],locs[:,1]])"
   ]
  },
  {
   "cell_type": "code",
   "execution_count": 18,
   "id": "be1aed54",
   "metadata": {},
   "outputs": [],
   "source": [
    "# challenge 3: Video #11\n",
    "\n",
    "# 3 billboards starting at 17 and evenly spaced ending at 28\n",
    "# another three from 32, 36\n",
    "# ads on these billboard a, b,c, c,b,a\n",
    "\n",
    "# determine how far each 'c' ad is from marker 30.\n",
    "np.abs(np.linspace(start=[17,32], stop=[28,36], num=3, axis=1) - 30)[[0,1],[2,0]]"
   ]
  }
 ],
 "metadata": {
  "kernelspec": {
   "display_name": "Python 3 (ipykernel)",
   "language": "python",
   "name": "python3"
  },
  "language_info": {
   "codemirror_mode": {
    "name": "ipython",
    "version": 3
   },
   "file_extension": ".py",
   "mimetype": "text/x-python",
   "name": "python",
   "nbconvert_exporter": "python",
   "pygments_lexer": "ipython3",
   "version": "3.8.10"
  }
 },
 "nbformat": 4,
 "nbformat_minor": 5
}
