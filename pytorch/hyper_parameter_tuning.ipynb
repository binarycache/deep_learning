{
 "cells": [
  {
   "cell_type": "code",
   "execution_count": 1,
   "metadata": {},
   "outputs": [],
   "source": [
    "%load_ext autoreload\n",
    "%autoreload 2\n",
    "import torch\n",
    "import torchvision\n",
    "from torchvision.transforms import transforms\n",
    "import torch.nn.functional as F\n",
    "import torch.optim as optim\n",
    "\n",
    "from sklearn.metrics import confusion_matrix\n",
    "from data_loader import DataLoader\n",
    "import numpy as np\n",
    "import matplotlib.pyplot as plt\n",
    "import model\n",
    "torch.set_printoptions(linewidth=120)\n",
    "from utils import *\n",
    "from collections import OrderedDict\n",
    "from run_builder import RunBuilder\n",
    "from run_manager import RunManager\n",
    "\n",
    "from tqdm import tqdm\n",
    "import time\n",
    "\n",
    "from torch.utils.tensorboard import SummaryWriter"
   ]
  },
  {
   "cell_type": "code",
   "execution_count": 2,
   "metadata": {},
   "outputs": [],
   "source": [
    "#device = 'cuda' if torch.cuda.is_available else 'cpu'\n",
    "device = 'cpu'"
   ]
  },
  {
   "cell_type": "code",
   "execution_count": 3,
   "metadata": {},
   "outputs": [
    {
     "name": "stderr",
     "output_type": "stream",
     "text": [
      "Epoch:   0%|          | 0/3 [00:00<?, ?it/s]"
     ]
    }
   ],
   "source": [
    "params = OrderedDict(\n",
    "    lr = [.01]\n",
    "    ,batch_size = [10, 50]\n",
    "    ,epochs = [3]\n",
    "    ,num_workers = [0]\n",
    "    ,batch_norm = [False, True]\n",
    "    ,normalize = [False, True]\n",
    ")\n",
    "\n",
    "m = RunManager()\n",
    "\n",
    "for run in RunBuilder.get_runs(params):\n",
    "    comment = f'-{run}'\n",
    "    \n",
    "    data_loader = DataLoader('fashion_mnist',batch_size=run.batch_size, normalize=run.normalize)\n",
    "    network = model.Network(run.batch_norm).to(device)\n",
    "    optimizer = optim.Adam(\n",
    "        network.parameters(), lr=run.lr\n",
    "    )\n",
    "    \n",
    "    m.begin_run(run, network, data_loader)\n",
    "    \n",
    "    outer = tqdm(total=run.epochs, desc='Epoch', position=0)\n",
    "    for epoch in range(run.epochs):\n",
    "        m.begin_epoch()\n",
    "        for batch in data_loader.train_loader:\n",
    "            #inner = tqdm(total=batch[1].shape[0], desc='Batch', position=1)\n",
    "            images = batch[0].to(device)\n",
    "            labels = batch[1].to(device) # Get Batch\n",
    "            preds = network(images) # Pass Batch\n",
    "            loss = F.cross_entropy(preds, labels) # Calculate Loss\n",
    "            optimizer.zero_grad() # Zero Gradients\n",
    "            loss.backward() # Calculate Gradients\n",
    "            optimizer.step() # Update Weights\n",
    "\n",
    "            m.track_loss(loss, batch)\n",
    "            m.track_num_correct(preds, labels)\n",
    "            #inner.update(1)\n",
    "        outer.update(1)\n",
    "        m.end_epoch()\n",
    "    m.end_run()\n",
    "m.save('results')\n",
    "        \n",
    "\n"
   ]
  },
  {
   "cell_type": "code",
   "execution_count": null,
   "metadata": {},
   "outputs": [],
   "source": [
    "pd.DataFrame.from_dict(m.run_data).sort_values('accuracy',ascending=False)"
   ]
  }
 ],
 "metadata": {
  "interpreter": {
   "hash": "c207b5e043e2b6ee029cb1f3c7633378ed9ad895d49c50d408b3ba611a8a833e"
  },
  "kernelspec": {
   "display_name": "Python 3.9.7 ('torch')",
   "language": "python",
   "name": "python3"
  },
  "language_info": {
   "codemirror_mode": {
    "name": "ipython",
    "version": 3
   },
   "file_extension": ".py",
   "mimetype": "text/x-python",
   "name": "python",
   "nbconvert_exporter": "python",
   "pygments_lexer": "ipython3",
   "version": "3.9.7"
  },
  "orig_nbformat": 4
 },
 "nbformat": 4,
 "nbformat_minor": 2
}
