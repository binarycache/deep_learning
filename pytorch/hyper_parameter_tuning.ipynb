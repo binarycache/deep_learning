{
 "cells": [
  {
   "cell_type": "code",
   "execution_count": 1,
   "metadata": {},
   "outputs": [],
   "source": [
    "%load_ext autoreload\n",
    "%autoreload 2\n",
    "import torch\n",
    "import torchvision\n",
    "from torchvision.transforms import transforms\n",
    "import torch.nn.functional as F\n",
    "import torch.optim as optim\n",
    "\n",
    "from sklearn.metrics import confusion_matrix\n",
    "from data_loader import DataLoader\n",
    "import numpy as np\n",
    "import matplotlib.pyplot as plt\n",
    "import model\n",
    "torch.set_printoptions(linewidth=120)\n",
    "from utils import *\n",
    "from collections import OrderedDict\n",
    "from run_builder import RunBuilder\n",
    "from run_manager import RunManager\n",
    "\n",
    "from tqdm.notebook import tqdm_notebook\n",
    "import time\n",
    "\n",
    "from torch.utils.tensorboard import SummaryWriter"
   ]
  },
  {
   "cell_type": "code",
   "execution_count": 2,
   "metadata": {},
   "outputs": [],
   "source": [
    "#device = 'cuda' if torch.cuda.is_available else 'cpu'\n",
    "device = 'cpu'"
   ]
  },
  {
   "cell_type": "code",
   "execution_count": 3,
   "metadata": {},
   "outputs": [
    {
     "ename": "ImportError",
     "evalue": "IProgress not found. Please update jupyter and ipywidgets. See https://ipywidgets.readthedocs.io/en/stable/user_install.html",
     "output_type": "error",
     "traceback": [
      "\u001b[0;31m---------------------------------------------------------------------------\u001b[0m",
      "\u001b[0;31mImportError\u001b[0m                               Traceback (most recent call last)",
      "\u001b[1;32m/data/github/deep_learning/pytorch/hyper_parameter_tuning.ipynb Cell 3'\u001b[0m in \u001b[0;36m<module>\u001b[0;34m\u001b[0m\n\u001b[1;32m     <a href='vscode-notebook-cell://localhost:3000/data/github/deep_learning/pytorch/hyper_parameter_tuning.ipynb#ch0000001vscode-remote?line=12'>13</a>\u001b[0m optimizer \u001b[39m=\u001b[39m optim\u001b[39m.\u001b[39mAdam(\n\u001b[1;32m     <a href='vscode-notebook-cell://localhost:3000/data/github/deep_learning/pytorch/hyper_parameter_tuning.ipynb#ch0000001vscode-remote?line=13'>14</a>\u001b[0m     network\u001b[39m.\u001b[39mparameters(), lr\u001b[39m=\u001b[39mrun\u001b[39m.\u001b[39mlr\n\u001b[1;32m     <a href='vscode-notebook-cell://localhost:3000/data/github/deep_learning/pytorch/hyper_parameter_tuning.ipynb#ch0000001vscode-remote?line=14'>15</a>\u001b[0m )\n\u001b[1;32m     <a href='vscode-notebook-cell://localhost:3000/data/github/deep_learning/pytorch/hyper_parameter_tuning.ipynb#ch0000001vscode-remote?line=16'>17</a>\u001b[0m m\u001b[39m.\u001b[39mbegin_run(run, network, data_loader)\n\u001b[0;32m---> <a href='vscode-notebook-cell://localhost:3000/data/github/deep_learning/pytorch/hyper_parameter_tuning.ipynb#ch0000001vscode-remote?line=18'>19</a>\u001b[0m \u001b[39mfor\u001b[39;00m epoch \u001b[39min\u001b[39;00m tqdm_notebook(\u001b[39mrange\u001b[39;49m(\u001b[39m3\u001b[39;49m)):\n\u001b[1;32m     <a href='vscode-notebook-cell://localhost:3000/data/github/deep_learning/pytorch/hyper_parameter_tuning.ipynb#ch0000001vscode-remote?line=19'>20</a>\u001b[0m     m\u001b[39m.\u001b[39mbegin_epoch()\n\u001b[1;32m     <a href='vscode-notebook-cell://localhost:3000/data/github/deep_learning/pytorch/hyper_parameter_tuning.ipynb#ch0000001vscode-remote?line=21'>22</a>\u001b[0m     \u001b[39mfor\u001b[39;00m batch \u001b[39min\u001b[39;00m data_loader\u001b[39m.\u001b[39mtrain_loader:\n",
      "File \u001b[0;32m/data/anaconda3/envs/torch/lib/python3.9/site-packages/tqdm/notebook.py:242\u001b[0m, in \u001b[0;36mtqdm_notebook.__init__\u001b[0;34m(self, *args, **kwargs)\u001b[0m\n\u001b[1;32m    <a href='file:///data/anaconda3/envs/torch/lib/python3.9/site-packages/tqdm/notebook.py?line=239'>240</a>\u001b[0m unit_scale \u001b[39m=\u001b[39m \u001b[39m1\u001b[39m \u001b[39mif\u001b[39;00m \u001b[39mself\u001b[39m\u001b[39m.\u001b[39munit_scale \u001b[39mis\u001b[39;00m \u001b[39mTrue\u001b[39;00m \u001b[39melse\u001b[39;00m \u001b[39mself\u001b[39m\u001b[39m.\u001b[39munit_scale \u001b[39mor\u001b[39;00m \u001b[39m1\u001b[39m\n\u001b[1;32m    <a href='file:///data/anaconda3/envs/torch/lib/python3.9/site-packages/tqdm/notebook.py?line=240'>241</a>\u001b[0m total \u001b[39m=\u001b[39m \u001b[39mself\u001b[39m\u001b[39m.\u001b[39mtotal \u001b[39m*\u001b[39m unit_scale \u001b[39mif\u001b[39;00m \u001b[39mself\u001b[39m\u001b[39m.\u001b[39mtotal \u001b[39melse\u001b[39;00m \u001b[39mself\u001b[39m\u001b[39m.\u001b[39mtotal\n\u001b[0;32m--> <a href='file:///data/anaconda3/envs/torch/lib/python3.9/site-packages/tqdm/notebook.py?line=241'>242</a>\u001b[0m \u001b[39mself\u001b[39m\u001b[39m.\u001b[39mcontainer \u001b[39m=\u001b[39m \u001b[39mself\u001b[39;49m\u001b[39m.\u001b[39;49mstatus_printer(\u001b[39mself\u001b[39;49m\u001b[39m.\u001b[39;49mfp, total, \u001b[39mself\u001b[39;49m\u001b[39m.\u001b[39;49mdesc, \u001b[39mself\u001b[39;49m\u001b[39m.\u001b[39;49mncols)\n\u001b[1;32m    <a href='file:///data/anaconda3/envs/torch/lib/python3.9/site-packages/tqdm/notebook.py?line=242'>243</a>\u001b[0m \u001b[39mself\u001b[39m\u001b[39m.\u001b[39mcontainer\u001b[39m.\u001b[39mpbar \u001b[39m=\u001b[39m proxy(\u001b[39mself\u001b[39m)\n\u001b[1;32m    <a href='file:///data/anaconda3/envs/torch/lib/python3.9/site-packages/tqdm/notebook.py?line=243'>244</a>\u001b[0m \u001b[39mself\u001b[39m\u001b[39m.\u001b[39mdisplayed \u001b[39m=\u001b[39m \u001b[39mFalse\u001b[39;00m\n",
      "File \u001b[0;32m/data/anaconda3/envs/torch/lib/python3.9/site-packages/tqdm/notebook.py:115\u001b[0m, in \u001b[0;36mtqdm_notebook.status_printer\u001b[0;34m(_, total, desc, ncols)\u001b[0m\n\u001b[1;32m    <a href='file:///data/anaconda3/envs/torch/lib/python3.9/site-packages/tqdm/notebook.py?line=105'>106</a>\u001b[0m \u001b[39m# Fallback to text bar if there's no total\u001b[39;00m\n\u001b[1;32m    <a href='file:///data/anaconda3/envs/torch/lib/python3.9/site-packages/tqdm/notebook.py?line=106'>107</a>\u001b[0m \u001b[39m# DEPRECATED: replaced with an 'info' style bar\u001b[39;00m\n\u001b[1;32m    <a href='file:///data/anaconda3/envs/torch/lib/python3.9/site-packages/tqdm/notebook.py?line=107'>108</a>\u001b[0m \u001b[39m# if not total:\u001b[39;00m\n\u001b[0;32m   (...)\u001b[0m\n\u001b[1;32m    <a href='file:///data/anaconda3/envs/torch/lib/python3.9/site-packages/tqdm/notebook.py?line=111'>112</a>\u001b[0m \n\u001b[1;32m    <a href='file:///data/anaconda3/envs/torch/lib/python3.9/site-packages/tqdm/notebook.py?line=112'>113</a>\u001b[0m \u001b[39m# Prepare IPython progress bar\u001b[39;00m\n\u001b[1;32m    <a href='file:///data/anaconda3/envs/torch/lib/python3.9/site-packages/tqdm/notebook.py?line=113'>114</a>\u001b[0m \u001b[39mif\u001b[39;00m IProgress \u001b[39mis\u001b[39;00m \u001b[39mNone\u001b[39;00m:  \u001b[39m# #187 #451 #558 #872\u001b[39;00m\n\u001b[0;32m--> <a href='file:///data/anaconda3/envs/torch/lib/python3.9/site-packages/tqdm/notebook.py?line=114'>115</a>\u001b[0m     \u001b[39mraise\u001b[39;00m \u001b[39mImportError\u001b[39;00m(\n\u001b[1;32m    <a href='file:///data/anaconda3/envs/torch/lib/python3.9/site-packages/tqdm/notebook.py?line=115'>116</a>\u001b[0m         \u001b[39m\"\u001b[39m\u001b[39mIProgress not found. Please update jupyter and ipywidgets.\u001b[39m\u001b[39m\"\u001b[39m\n\u001b[1;32m    <a href='file:///data/anaconda3/envs/torch/lib/python3.9/site-packages/tqdm/notebook.py?line=116'>117</a>\u001b[0m         \u001b[39m\"\u001b[39m\u001b[39m See https://ipywidgets.readthedocs.io/en/stable\u001b[39m\u001b[39m\"\u001b[39m\n\u001b[1;32m    <a href='file:///data/anaconda3/envs/torch/lib/python3.9/site-packages/tqdm/notebook.py?line=117'>118</a>\u001b[0m         \u001b[39m\"\u001b[39m\u001b[39m/user_install.html\u001b[39m\u001b[39m\"\u001b[39m)\n\u001b[1;32m    <a href='file:///data/anaconda3/envs/torch/lib/python3.9/site-packages/tqdm/notebook.py?line=118'>119</a>\u001b[0m \u001b[39mif\u001b[39;00m total:\n\u001b[1;32m    <a href='file:///data/anaconda3/envs/torch/lib/python3.9/site-packages/tqdm/notebook.py?line=119'>120</a>\u001b[0m     pbar \u001b[39m=\u001b[39m IProgress(\u001b[39mmin\u001b[39m\u001b[39m=\u001b[39m\u001b[39m0\u001b[39m, \u001b[39mmax\u001b[39m\u001b[39m=\u001b[39mtotal)\n",
      "\u001b[0;31mImportError\u001b[0m: IProgress not found. Please update jupyter and ipywidgets. See https://ipywidgets.readthedocs.io/en/stable/user_install.html"
     ]
    }
   ],
   "source": [
    "params = OrderedDict(\n",
    "    lr = [.01, .001]\n",
    "    ,batch_size = [10, 100]\n",
    ")\n",
    "\n",
    "m = RunManager()\n",
    "\n",
    "for run in RunBuilder.get_runs(params):\n",
    "    comment = f'-{run}'\n",
    "    \n",
    "    data_loader = DataLoader('fashion_mnist',batch_size=run.batch_size)\n",
    "    network = model.Network().to(device)\n",
    "    optimizer = optim.Adam(\n",
    "        network.parameters(), lr=run.lr\n",
    "    )\n",
    "    \n",
    "    m.begin_run(run, network, data_loader)\n",
    "\n",
    "    for epoch in tqdm_notebook(range(3)):\n",
    "        m.begin_epoch()\n",
    "        \n",
    "        for batch in data_loader.train_loader:\n",
    "            \n",
    "            images = batch[0].to(device)\n",
    "            labels = batch[1].to(device) # Get Batch\n",
    "            preds = network(images) # Pass Batch\n",
    "            loss = F.cross_entropy(preds, labels) # Calculate Loss\n",
    "            optimizer.zero_grad() # Zero Gradients\n",
    "            loss.backward() # Calculate Gradients\n",
    "            optimizer.step() # Update Weights\n",
    "\n",
    "            m.track_loss(loss, batch)\n",
    "            m.track_num_correct(preds, labels)\n",
    "        m.end_epoch()\n",
    "    m.end_run()\n",
    "m.save('results')\n",
    "        \n",
    "\n"
   ]
  },
  {
   "cell_type": "code",
   "execution_count": null,
   "metadata": {},
   "outputs": [],
   "source": []
  }
 ],
 "metadata": {
  "interpreter": {
   "hash": "c207b5e043e2b6ee029cb1f3c7633378ed9ad895d49c50d408b3ba611a8a833e"
  },
  "kernelspec": {
   "display_name": "Python 3.9.7 ('torch')",
   "language": "python",
   "name": "python3"
  },
  "language_info": {
   "codemirror_mode": {
    "name": "ipython",
    "version": 3
   },
   "file_extension": ".py",
   "mimetype": "text/x-python",
   "name": "python",
   "nbconvert_exporter": "python",
   "pygments_lexer": "ipython3",
   "version": "3.9.7"
  },
  "orig_nbformat": 4
 },
 "nbformat": 4,
 "nbformat_minor": 2
}
