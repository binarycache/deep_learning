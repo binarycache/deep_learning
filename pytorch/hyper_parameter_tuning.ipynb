{
 "cells": [
  {
   "cell_type": "code",
   "execution_count": 1,
   "metadata": {},
   "outputs": [],
   "source": [
    "%load_ext autoreload\n",
    "%autoreload 2\n",
    "import torch\n",
    "import torchvision\n",
    "from torchvision.transforms import transforms\n",
    "import torch.nn.functional as F\n",
    "import torch.optim as optim\n",
    "\n",
    "from sklearn.metrics import confusion_matrix\n",
    "from data_loader import DataLoader\n",
    "import numpy as np\n",
    "import matplotlib.pyplot as plt\n",
    "import model\n",
    "torch.set_printoptions(linewidth=120)\n",
    "from utils import *\n",
    "from collections import OrderedDict\n",
    "from run_builder import RunBuilder\n",
    "from run_manager import RunManager\n",
    "\n",
    "from tqdm import tqdm\n",
    "import time\n",
    "\n",
    "from torch.utils.tensorboard import SummaryWriter"
   ]
  },
  {
   "cell_type": "code",
   "execution_count": 2,
   "metadata": {},
   "outputs": [],
   "source": [
    "#device = 'cuda' if torch.cuda.is_available else 'cpu'\n",
    "device = 'cpu'"
   ]
  },
  {
   "cell_type": "code",
   "execution_count": 3,
   "metadata": {},
   "outputs": [
    {
     "name": "stderr",
     "output_type": "stream",
     "text": [
      "Epoch:   0%|          | 0/3 [00:00<?, ?it/s]"
     ]
    },
    {
     "ename": "AttributeError",
     "evalue": "'tqdm' object has no attribute 'Update'",
     "output_type": "error",
     "traceback": [
      "\u001b[0;31m---------------------------------------------------------------------------\u001b[0m",
      "\u001b[0;31mAttributeError\u001b[0m                            Traceback (most recent call last)",
      "\u001b[1;32m/data/github/deep_learning/pytorch/hyper_parameter_tuning.ipynb Cell 3'\u001b[0m in \u001b[0;36m<module>\u001b[0;34m\u001b[0m\n\u001b[1;32m     <a href='vscode-notebook-cell://localhost:3000/data/github/deep_learning/pytorch/hyper_parameter_tuning.ipynb#ch0000001vscode-remote?line=32'>33</a>\u001b[0m     m\u001b[39m.\u001b[39mtrack_loss(loss, batch)\n\u001b[1;32m     <a href='vscode-notebook-cell://localhost:3000/data/github/deep_learning/pytorch/hyper_parameter_tuning.ipynb#ch0000001vscode-remote?line=33'>34</a>\u001b[0m     m\u001b[39m.\u001b[39mtrack_num_correct(preds, labels)\n\u001b[0;32m---> <a href='vscode-notebook-cell://localhost:3000/data/github/deep_learning/pytorch/hyper_parameter_tuning.ipynb#ch0000001vscode-remote?line=34'>35</a>\u001b[0m     inner\u001b[39m.\u001b[39;49mUpdate(\u001b[39m1\u001b[39m)\n\u001b[1;32m     <a href='vscode-notebook-cell://localhost:3000/data/github/deep_learning/pytorch/hyper_parameter_tuning.ipynb#ch0000001vscode-remote?line=35'>36</a>\u001b[0m outer\u001b[39m.\u001b[39mupdate(\u001b[39m1\u001b[39m)\n\u001b[1;32m     <a href='vscode-notebook-cell://localhost:3000/data/github/deep_learning/pytorch/hyper_parameter_tuning.ipynb#ch0000001vscode-remote?line=36'>37</a>\u001b[0m m\u001b[39m.\u001b[39mend_epoch()\n",
      "\u001b[0;31mAttributeError\u001b[0m: 'tqdm' object has no attribute 'Update'"
     ]
    }
   ],
   "source": [
    "params = OrderedDict(\n",
    "    lr = [.01, .001]\n",
    "    ,batch_size = [10, 100]\n",
    "    ,epochs = [3]\n",
    ")\n",
    "\n",
    "m = RunManager()\n",
    "\n",
    "for run in RunBuilder.get_runs(params):\n",
    "    comment = f'-{run}'\n",
    "    \n",
    "    data_loader = DataLoader('fashion_mnist',batch_size=run.batch_size)\n",
    "    network = model.Network().to(device)\n",
    "    optimizer = optim.Adam(\n",
    "        network.parameters(), lr=run.lr\n",
    "    )\n",
    "    \n",
    "    m.begin_run(run, network, data_loader)\n",
    "    \n",
    "    outer = tqdm(total=run.epochs, desc='Epoch', position=0)\n",
    "    for epoch in range(run.epochs):\n",
    "        m.begin_epoch()\n",
    "        for batch in data_loader.train_loader:\n",
    "            inner = tqdm(total=batch[1].shape[0], desc='Batch', position=1)\n",
    "            images = batch[0].to(device)\n",
    "            labels = batch[1].to(device) # Get Batch\n",
    "            preds = network(images) # Pass Batch\n",
    "            loss = F.cross_entropy(preds, labels) # Calculate Loss\n",
    "            optimizer.zero_grad() # Zero Gradients\n",
    "            loss.backward() # Calculate Gradients\n",
    "            optimizer.step() # Update Weights\n",
    "\n",
    "            m.track_loss(loss, batch)\n",
    "            m.track_num_correct(preds, labels)\n",
    "            inner.update(1)\n",
    "        outer.update(1)\n",
    "        m.end_epoch()\n",
    "    m.end_run()\n",
    "m.save('results')\n",
    "        \n",
    "\n"
   ]
  },
  {
   "cell_type": "code",
   "execution_count": null,
   "metadata": {},
   "outputs": [],
   "source": []
  }
 ],
 "metadata": {
  "interpreter": {
   "hash": "c207b5e043e2b6ee029cb1f3c7633378ed9ad895d49c50d408b3ba611a8a833e"
  },
  "kernelspec": {
   "display_name": "Python 3.9.7 ('torch')",
   "language": "python",
   "name": "python3"
  },
  "language_info": {
   "codemirror_mode": {
    "name": "ipython",
    "version": 3
   },
   "file_extension": ".py",
   "mimetype": "text/x-python",
   "name": "python",
   "nbconvert_exporter": "python",
   "pygments_lexer": "ipython3",
   "version": "3.9.7"
  },
  "orig_nbformat": 4
 },
 "nbformat": 4,
 "nbformat_minor": 2
}
