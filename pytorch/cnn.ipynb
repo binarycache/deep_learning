{
 "cells": [
  {
   "cell_type": "code",
   "execution_count": 53,
   "id": "168b2485",
   "metadata": {},
   "outputs": [
    {
     "name": "stdout",
     "output_type": "stream",
     "text": [
      "The autoreload extension is already loaded. To reload it, use:\n",
      "  %reload_ext autoreload\n"
     ]
    }
   ],
   "source": [
    "%load_ext autoreload\n",
    "%autoreload 2\n",
    "import torch\n",
    "import torchvision\n",
    "from torchvision.transforms import transforms\n",
    "import torch.nn.functional as F\n",
    "import torch.optim as optim\n",
    "\n",
    "from sklearn.metrics import confusion_matrix\n",
    "from data_loader import DataLoader\n",
    "import numpy as np\n",
    "import matplotlib.pyplot as plt\n",
    "import model\n",
    "torch.set_printoptions(linewidth=120)\n",
    "from utils import *\n",
    "\n",
    "from torch.utils.tensorboard import SummaryWriter"
   ]
  },
  {
   "cell_type": "code",
   "execution_count": 52,
   "id": "0aca28fe",
   "metadata": {},
   "outputs": [
    {
     "data": {
      "text/plain": [
       "'1.10.2'"
      ]
     },
     "execution_count": 52,
     "metadata": {},
     "output_type": "execute_result"
    }
   ],
   "source": [
    "torch.__version__"
   ]
  },
  {
   "cell_type": "code",
   "execution_count": 2,
   "id": "a786c6bc",
   "metadata": {},
   "outputs": [],
   "source": [
    "data_loader = DataLoader('fashion_mnist',batch_size=10)"
   ]
  },
  {
   "cell_type": "code",
   "execution_count": 3,
   "id": "c59d1498",
   "metadata": {},
   "outputs": [],
   "source": [
    "train_set = data_loader.train_set # 60,000 images for fashion mnist"
   ]
  },
  {
   "cell_type": "code",
   "execution_count": 4,
   "id": "b096489a",
   "metadata": {},
   "outputs": [
    {
     "data": {
      "text/plain": [
       "tensor([6000, 6000, 6000, 6000, 6000, 6000, 6000, 6000, 6000, 6000])"
      ]
     },
     "execution_count": 4,
     "metadata": {},
     "output_type": "execute_result"
    }
   ],
   "source": [
    "train_set.targets.bincount() # 10 classes each with 6,000 images"
   ]
  },
  {
   "cell_type": "code",
   "execution_count": 5,
   "id": "a2a17e50",
   "metadata": {},
   "outputs": [],
   "source": [
    "image, label = next(iter(train_set))"
   ]
  },
  {
   "cell_type": "code",
   "execution_count": 6,
   "id": "7973dc69",
   "metadata": {},
   "outputs": [
    {
     "data": {
      "text/plain": [
       "Text(0.5, 1.0, '9')"
      ]
     },
     "execution_count": 6,
     "metadata": {},
     "output_type": "execute_result"
    },
    {
     "data": {
      "image/png": "[encoded data removed]",
      "text/plain": [
       "<Figure size 432x288 with 1 Axes>"
      ]
     },
     "metadata": {
      "needs_background": "light"
     },
     "output_type": "display_data"
    }
   ],
   "source": [
    "plt.imshow(image.squeeze())\n",
    "plt.title(label)"
   ]
  },
  {
   "cell_type": "code",
   "execution_count": 7,
   "id": "2f05fc50",
   "metadata": {},
   "outputs": [],
   "source": [
    "images, labels = next(iter(data_loader.train_loader))"
   ]
  },
  {
   "cell_type": "code",
   "execution_count": 8,
   "id": "acf645cd",
   "metadata": {},
   "outputs": [
    {
     "data": {
      "text/plain": [
       "<matplotlib.image.AxesImage at 0x7efb751ecbb0>"
      ]
     },
     "execution_count": 8,
     "metadata": {},
     "output_type": "execute_result"
    },
    {
     "data": {
      "image/png": "[encoded data removed]",
      "text/plain": [
       "<Figure size 1080x1080 with 1 Axes>"
      ]
     },
     "metadata": {
      "needs_background": "light"
     },
     "output_type": "display_data"
    }
   ],
   "source": [
    "grid = torchvision.utils.make_grid(images,nrow=5)\n",
    "\n",
    "plt.figure(figsize=(15,15))\n",
    "\n",
    "plt.imshow(np.transpose(grid, (1,2,0)))"
   ]
  },
  {
   "cell_type": "code",
   "execution_count": 9,
   "id": "2dc7488e",
   "metadata": {},
   "outputs": [],
   "source": [
    "network = model.Network()"
   ]
  },
  {
   "cell_type": "code",
   "execution_count": 10,
   "id": "c5d3cb93",
   "metadata": {},
   "outputs": [
    {
     "name": "stdout",
     "output_type": "stream",
     "text": [
      "Network(\n",
      "  (conv1): Conv2d(1, 6, kernel_size=(5, 5), stride=(1, 1))\n",
      "  (conv2): Conv2d(6, 12, kernel_size=(5, 5), stride=(1, 1))\n",
      "  (fc1): Linear(in_features=192, out_features=120, bias=True)\n",
      "  (fc2): Linear(in_features=120, out_features=60, bias=True)\n",
      "  (out): Linear(in_features=60, out_features=10, bias=True)\n",
      ")\n"
     ]
    }
   ],
   "source": [
    "print(network)"
   ]
  },
  {
   "cell_type": "code",
   "execution_count": 11,
   "id": "225892f5",
   "metadata": {},
   "outputs": [
    {
     "data": {
      "text/plain": [
       "Parameter containing:\n",
       "tensor([[[[ 0.0194,  0.1929,  0.0057, -0.0829,  0.1379],\n",
       "          [-0.1786,  0.0576,  0.1434,  0.0639,  0.1609],\n",
       "          [ 0.1312,  0.1767,  0.1612,  0.1053, -0.1036],\n",
       "          [ 0.1479, -0.0275, -0.0014, -0.0702, -0.0384],\n",
       "          [ 0.1574,  0.0474,  0.0818, -0.0382, -0.0313]]],\n",
       "\n",
       "\n",
       "        [[[-0.0384, -0.1271, -0.0165, -0.1458, -0.1639],\n",
       "          [ 0.1368, -0.0877,  0.1509,  0.0386,  0.1253],\n",
       "          [ 0.1216, -0.0609, -0.1728, -0.1794, -0.0308],\n",
       "          [ 0.1826, -0.0718, -0.1754, -0.1165,  0.1657],\n",
       "          [-0.0048,  0.1519,  0.1923,  0.0247, -0.0478]]],\n",
       "\n",
       "\n",
       "        [[[-0.1005,  0.1320, -0.1473,  0.0415,  0.0197],\n",
       "          [ 0.1626, -0.1180, -0.1022, -0.1267,  0.0393],\n",
       "          [ 0.0596, -0.1190, -0.0844,  0.1072,  0.0563],\n",
       "          [-0.1895,  0.0220,  0.0512,  0.1150,  0.0577],\n",
       "          [ 0.0950, -0.1750,  0.1220,  0.1595, -0.0947]]],\n",
       "\n",
       "\n",
       "        [[[ 0.0731, -0.1973,  0.1194,  0.1495,  0.1507],\n",
       "          [-0.1003,  0.1364,  0.0745,  0.0091,  0.1050],\n",
       "          [-0.0896, -0.1152, -0.1339,  0.1025, -0.0889],\n",
       "          [-0.1053, -0.1369,  0.0827, -0.0018,  0.1263],\n",
       "          [ 0.1983, -0.0145, -0.0276,  0.0536,  0.0505]]],\n",
       "\n",
       "\n",
       "        [[[ 0.0761,  0.0738, -0.1564, -0.0546, -0.0558],\n",
       "          [-0.0043,  0.0759, -0.1730, -0.0436, -0.0439],\n",
       "          [-0.0501,  0.1274, -0.1205, -0.0034,  0.1055],\n",
       "          [-0.0753, -0.1857,  0.1017, -0.1491,  0.1110],\n",
       "          [-0.0038, -0.1856, -0.0261, -0.1878, -0.0328]]],\n",
       "\n",
       "\n",
       "        [[[-0.1674,  0.0288, -0.1292,  0.1001, -0.0262],\n",
       "          [ 0.0497,  0.0183,  0.1106,  0.0414,  0.1469],\n",
       "          [ 0.1570, -0.1911,  0.0654, -0.1988,  0.1207],\n",
       "          [-0.0024, -0.0501,  0.0277,  0.0947, -0.0022],\n",
       "          [ 0.0956, -0.0466, -0.1503, -0.0564, -0.0325]]]], requires_grad=True)"
      ]
     },
     "execution_count": 11,
     "metadata": {},
     "output_type": "execute_result"
    }
   ],
   "source": [
    "network.conv1.weight"
   ]
  },
  {
   "cell_type": "code",
   "execution_count": 12,
   "id": "8f5028fe",
   "metadata": {},
   "outputs": [
    {
     "data": {
      "text/plain": [
       "<torch.autograd.grad_mode.set_grad_enabled at 0x7efb75200ac0>"
      ]
     },
     "execution_count": 12,
     "metadata": {},
     "output_type": "execute_result"
    }
   ],
   "source": [
    "# Let's turn the gradient off so that memory is saved\n",
    "torch.set_grad_enabled(True)"
   ]
  },
  {
   "cell_type": "code",
   "execution_count": 13,
   "id": "80ce3296-dac2-49df-afa0-68c9c61a26d7",
   "metadata": {},
   "outputs": [
    {
     "data": {
      "text/plain": [
       "torch.Size([1, 28, 28])"
      ]
     },
     "execution_count": 13,
     "metadata": {},
     "output_type": "execute_result"
    }
   ],
   "source": [
    "# get a single image\n",
    "image = images[0]\n",
    "image.shape"
   ]
  },
  {
   "cell_type": "code",
   "execution_count": 14,
   "id": "16ecfc4a-89d8-4755-9279-bd9ad508e459",
   "metadata": {},
   "outputs": [
    {
     "data": {
      "text/plain": [
       "torch.Size([1, 1, 28, 28])"
      ]
     },
     "execution_count": 14,
     "metadata": {},
     "output_type": "execute_result"
    }
   ],
   "source": [
    "# add one dimension to pass it to the network\n",
    "image = image.unsqueeze(0)\n",
    "image.shape"
   ]
  },
  {
   "cell_type": "code",
   "execution_count": 15,
   "id": "d8198235-b264-4bf0-a876-22a436ba488f",
   "metadata": {},
   "outputs": [],
   "source": [
    "pred = network(image)"
   ]
  },
  {
   "cell_type": "code",
   "execution_count": 16,
   "id": "4eca839a-ee7e-4c5c-8ffc-93c15281ffe9",
   "metadata": {},
   "outputs": [
    {
     "data": {
      "text/plain": [
       "torch.Size([1, 10])"
      ]
     },
     "execution_count": 16,
     "metadata": {},
     "output_type": "execute_result"
    }
   ],
   "source": [
    "pred.shape"
   ]
  },
  {
   "cell_type": "code",
   "execution_count": 17,
   "id": "ffc3d7b5-38f8-42b6-8442-eae80fad22aa",
   "metadata": {},
   "outputs": [
    {
     "data": {
      "text/plain": [
       "tensor([[ 0.0208, -0.0172, -0.0685, -0.0562,  0.1078, -0.0636,  0.0625,  0.0749, -0.0304,  0.0198]],\n",
       "       grad_fn=<AddmmBackward0>)"
      ]
     },
     "execution_count": 17,
     "metadata": {},
     "output_type": "execute_result"
    }
   ],
   "source": [
    "pred"
   ]
  },
  {
   "cell_type": "code",
   "execution_count": 18,
   "id": "5472313c-475e-43bb-ba66-b9e2db9735f0",
   "metadata": {},
   "outputs": [],
   "source": [
    "pred = F.softmax(pred, dim=1)"
   ]
  },
  {
   "cell_type": "code",
   "execution_count": 19,
   "id": "5c79d057-76c3-47c8-8355-700647597039",
   "metadata": {},
   "outputs": [
    {
     "data": {
      "text/plain": [
       "tensor([9, 0, 0, 3, 0, 2, 7, 2, 5, 5])"
      ]
     },
     "execution_count": 19,
     "metadata": {},
     "output_type": "execute_result"
    }
   ],
   "source": [
    "labels"
   ]
  },
  {
   "cell_type": "code",
   "execution_count": null,
   "id": "7e9ff083-c8f4-49bf-b6f5-1b0d52a7bc42",
   "metadata": {},
   "outputs": [],
   "source": [
    "## The Training Process\n",
    "\n",
    "# 1. Get batch from the training set\n",
    "# 2. Pass this batch to the network\n",
    "# 3. Calcuate the loss\n",
    "# 4. Calculate gradient of loss functions w.r.t. the weights.\n",
    "# 5. Update the weights using gradient descent\n",
    "# 6. Repeat steps 1-5 for a single epoch.\n",
    "# 7. "
   ]
  },
  {
   "cell_type": "code",
   "execution_count": 20,
   "id": "7b8d8029-caa6-4d24-9761-e14369fa1192",
   "metadata": {},
   "outputs": [],
   "source": [
    "preds = network(images)"
   ]
  },
  {
   "cell_type": "code",
   "execution_count": 21,
   "id": "960bf394-b2bb-46fc-8146-4337dba89694",
   "metadata": {},
   "outputs": [
    {
     "data": {
      "text/plain": [
       "(torch.Size([10]), torch.Size([10, 10]))"
      ]
     },
     "execution_count": 21,
     "metadata": {},
     "output_type": "execute_result"
    }
   ],
   "source": [
    "labels.shape, preds.shape"
   ]
  },
  {
   "cell_type": "code",
   "execution_count": 22,
   "id": "1574a95e-01c1-4e40-80a6-dbcd5994634f",
   "metadata": {},
   "outputs": [
    {
     "data": {
      "text/plain": [
       "2.3269107341766357"
      ]
     },
     "execution_count": 22,
     "metadata": {},
     "output_type": "execute_result"
    }
   ],
   "source": [
    "loss = F.cross_entropy(preds, labels) # applies softmax \n",
    "loss.item()"
   ]
  },
  {
   "cell_type": "code",
   "execution_count": 23,
   "id": "104486ef-4feb-49f0-bb31-d9294a67395b",
   "metadata": {},
   "outputs": [],
   "source": [
    "network.conv1.weight.grad"
   ]
  },
  {
   "cell_type": "code",
   "execution_count": 24,
   "id": "e2188563-4bb6-4144-acf7-7116bd2bde09",
   "metadata": {},
   "outputs": [],
   "source": [
    "loss.backward()"
   ]
  },
  {
   "cell_type": "code",
   "execution_count": 25,
   "id": "8bbe6174-5118-4531-a13c-b1b2341fa099",
   "metadata": {},
   "outputs": [
    {
     "data": {
      "text/plain": [
       "(tensor([[[[ 3.2327e-03,  3.2459e-03,  1.2413e-03,  1.3834e-03,  2.2795e-03],\n",
       "           [ 2.4948e-03,  1.1184e-03,  1.0291e-04,  5.7030e-04,  1.3452e-03],\n",
       "           [ 8.5096e-04,  7.8245e-04,  5.5321e-04,  5.6190e-04,  2.4348e-03],\n",
       "           [ 2.7642e-03,  3.7422e-03,  3.1147e-03,  2.2873e-03,  3.6017e-03],\n",
       "           [ 3.9151e-03,  5.5434e-03,  4.3328e-03,  2.7018e-03,  3.3148e-03]]],\n",
       " \n",
       " \n",
       "         [[[ 4.7350e-04, -1.2176e-03, -9.7237e-04,  4.2633e-04,  7.5316e-04],\n",
       "           [-7.1705e-04, -1.3247e-03, -4.6853e-04,  1.0748e-03,  2.5616e-03],\n",
       "           [ 7.4766e-05,  7.1704e-04,  1.1187e-03,  2.2281e-03,  3.2097e-03],\n",
       "           [ 2.6648e-04,  1.0509e-03,  1.6731e-03,  1.5803e-03,  3.6064e-03],\n",
       "           [ 8.4679e-04,  2.5909e-03,  2.7977e-03,  2.6919e-03,  3.5999e-03]]],\n",
       " \n",
       " \n",
       "         [[[ 5.1840e-04, -1.1392e-04, -7.7201e-04, -2.2117e-03, -2.7135e-03],\n",
       "           [-9.2172e-05, -6.3616e-05, -1.1425e-03, -2.5579e-03, -4.6408e-03],\n",
       "           [-7.8821e-04, -7.1261e-04, -1.5321e-03, -3.8958e-03, -4.5526e-03],\n",
       "           [-1.3865e-03, -1.1150e-03, -2.9951e-03, -3.5686e-03, -4.2250e-03],\n",
       "           [-2.2348e-03, -3.6619e-03, -4.0882e-03, -3.5836e-03, -2.5329e-03]]],\n",
       " \n",
       " \n",
       "         [[[-1.1007e-03, -1.0078e-03, -6.8698e-04, -9.9720e-05, -1.0835e-03],\n",
       "           [-2.3258e-04,  7.3936e-04,  1.4996e-03,  5.4553e-04, -9.4788e-04],\n",
       "           [ 3.1126e-04,  7.7779e-04,  2.6489e-04, -4.4134e-04, -7.9433e-04],\n",
       "           [ 8.6991e-04,  3.4822e-04,  8.3734e-04,  5.9040e-04,  1.0181e-03],\n",
       "           [ 3.5281e-03,  1.3334e-03,  1.1709e-03,  4.2881e-04,  1.5775e-03]]],\n",
       " \n",
       " \n",
       "         [[[ 5.5966e-04, -9.1946e-05, -4.6132e-04, -2.8722e-04, -5.8113e-04],\n",
       "           [ 2.0150e-04, -8.6522e-04, -2.9336e-04, -7.9639e-05, -4.2237e-04],\n",
       "           [-3.1115e-04, -2.7153e-04, -1.4985e-04,  4.7238e-06, -1.8305e-04],\n",
       "           [ 5.3564e-05,  9.7707e-05,  9.1328e-05, -3.5063e-05, -4.5457e-04],\n",
       "           [ 1.1568e-03,  2.4931e-04,  6.6607e-05, -1.8418e-04, -1.1324e-03]]],\n",
       " \n",
       " \n",
       "         [[[ 8.6018e-04,  1.9092e-03,  7.3293e-04, -8.2939e-05,  2.6497e-04],\n",
       "           [ 1.0152e-03,  1.7945e-03,  3.8028e-04,  3.5281e-04, -3.7215e-04],\n",
       "           [-1.0938e-03,  8.5808e-04, -7.2734e-04, -7.5476e-04, -1.7017e-03],\n",
       "           [ 4.0265e-04,  1.4659e-03, -1.1061e-03, -1.1938e-03, -8.9884e-04],\n",
       "           [ 1.4776e-03,  6.3034e-04, -1.4920e-03, -9.5914e-04,  1.4842e-04]]]]),\n",
       " torch.Size([6, 1, 5, 5]))"
      ]
     },
     "execution_count": 25,
     "metadata": {},
     "output_type": "execute_result"
    }
   ],
   "source": [
    "network.conv1.weight.grad, network.conv1.weight.grad.shape"
   ]
  },
  {
   "cell_type": "code",
   "execution_count": null,
   "id": "e67dc623-9e9b-4f03-a1c9-41232194d79c",
   "metadata": {},
   "outputs": [],
   "source": [
    "# updating the weights"
   ]
  },
  {
   "cell_type": "code",
   "execution_count": 26,
   "id": "da33c254-4006-4a26-9ce8-7144bc886845",
   "metadata": {},
   "outputs": [
    {
     "name": "stdout",
     "output_type": "stream",
     "text": [
      "2.3269107341766357\n",
      "0\n",
      "2.2001259326934814\n",
      "3\n"
     ]
    }
   ],
   "source": [
    "optimizer = optim.Adam(network.parameters(), lr = 1e-2)\n",
    "print(loss.item())\n",
    "print(get_num_correct(preds, labels))\n",
    "\n",
    "optimizer.step()\n",
    "\n",
    "preds = network(images)\n",
    "loss = F.cross_entropy(preds,labels)\n",
    "print(loss.item())\n",
    "print(get_num_correct(preds,labels))"
   ]
  },
  {
   "cell_type": "code",
   "execution_count": 28,
   "id": "4d909d48-cd2a-40f4-b52a-02f3a54e1e31",
   "metadata": {},
   "outputs": [
    {
     "name": "stdout",
     "output_type": "stream",
     "text": [
      "Epoch 0, Loss = 3389.4920900291763 and number of correct prections were 47709\n",
      "Epoch 1, Loss = 6725.9280849325005 and number of correct prections were 95669\n"
     ]
    }
   ],
   "source": [
    "# Traininig Loop\n",
    "\n",
    "epoch_loss = 0;\n",
    "epoch_correct_predictions = 0;\n",
    "\n",
    "for epoch in range(2):\n",
    "    for batch in data_loader.train_loader:\n",
    "\n",
    "        images, labels = batch # Get a batch\n",
    "\n",
    "        preds = network(images) # Make predictions\n",
    "\n",
    "        # Zero out the gradients for this batch\n",
    "        optimizer.zero_grad();\n",
    "\n",
    "        # Calulathe loss\n",
    "        loss = F.cross_entropy(preds, labels);\n",
    "\n",
    "        # Backward pass with autograd\n",
    "        loss.backward()\n",
    "\n",
    "        #update the weights\n",
    "        optimizer.step()\n",
    "\n",
    "        epoch_loss += loss.item();\n",
    "\n",
    "        epoch_correct_predictions += get_num_correct(preds, labels)\n",
    "\n",
    "    print(f\"Epoch {epoch}, Loss = {epoch_loss} and number of correct prections were {epoch_correct_predictions}\")"
   ]
  },
  {
   "cell_type": "code",
   "execution_count": 30,
   "id": "f1a939c5",
   "metadata": {},
   "outputs": [
    {
     "data": {
      "text/plain": [
       "tensor([4, 1, 7, 2, 8, 5, 1, 3, 0, 5])"
      ]
     },
     "execution_count": 30,
     "metadata": {},
     "output_type": "execute_result"
    }
   ],
   "source": [
    "labels"
   ]
  },
  {
   "cell_type": "code",
   "execution_count": 44,
   "id": "f3560a99",
   "metadata": {},
   "outputs": [],
   "source": [
    "classes = ['T-shirt/Top', 'Trouser', 'Pullover', 'Dress', 'Coat', 'Sandal', 'Shirt', 'Sneaker', 'Bag' ,'Ankle Boot']\n",
    "cm = get_confusion_matrix(labels, preds, 10)"
   ]
  },
  {
   "cell_type": "code",
   "execution_count": 48,
   "id": "7297482f",
   "metadata": {},
   "outputs": [
    {
     "name": "stdout",
     "output_type": "stream",
     "text": [
      "[[1 0 0 0 0 0 0 0]\n",
      " [0 2 0 0 0 0 0 0]\n",
      " [0 0 0 0 1 0 0 0]\n",
      " [0 0 0 1 0 0 0 0]\n",
      " [0 0 0 0 1 0 0 0]\n",
      " [0 0 0 0 0 2 0 0]\n",
      " [0 0 0 0 0 0 1 0]\n",
      " [0 0 0 0 0 0 0 1]]\n"
     ]
    }
   ],
   "source": [
    "print(confusion_matrix(labels.detach().numpy(),preds.argmax(dim=1).detach().numpy()))\n"
   ]
  },
  {
   "cell_type": "code",
   "execution_count": 49,
   "id": "9d4832e9",
   "metadata": {},
   "outputs": [
    {
     "name": "stdout",
     "output_type": "stream",
     "text": [
      "Confusion matrix, without normalization\n",
      "tensor([[1, 0, 0, 0, 0, 0, 0, 0, 0, 0],\n",
      "        [0, 2, 0, 0, 0, 0, 0, 0, 0, 0],\n",
      "        [0, 0, 0, 0, 1, 0, 0, 0, 0, 0],\n",
      "        [0, 0, 0, 1, 0, 0, 0, 0, 0, 0],\n",
      "        [0, 0, 0, 0, 1, 0, 0, 0, 0, 0],\n",
      "        [0, 0, 0, 0, 0, 2, 0, 0, 0, 0],\n",
      "        [0, 0, 0, 0, 0, 0, 0, 0, 0, 0],\n",
      "        [0, 0, 0, 0, 0, 0, 0, 1, 0, 0],\n",
      "        [0, 0, 0, 0, 0, 0, 0, 0, 1, 0],\n",
      "        [0, 0, 0, 0, 0, 0, 0, 0, 0, 0]])\n"
     ]
    },
    {
     "data": {
      "image/png": "[encoded data removed]",
      "text/plain": [
       "<Figure size 432x288 with 2 Axes>"
      ]
     },
     "metadata": {
      "needs_background": "light"
     },
     "output_type": "display_data"
    }
   ],
   "source": [
    "plot_confusion_matrix(cm,classes)"
   ]
  },
  {
   "cell_type": "code",
   "execution_count": 55,
   "id": "7a3b8296",
   "metadata": {},
   "outputs": [],
   "source": [
    "tb = SummaryWriter()\n",
    "\n",
    "network = model.Network()\n",
    "images, labels = next(iter(data_loader.train_loader))\n",
    "grid = torchvision.utils.make_grid(images)\n",
    "\n",
    "tb.add_image('images', grid)\n",
    "tb.add_graph(network, images)\n",
    "tb.close()"
   ]
  },
  {
   "cell_type": "code",
   "execution_count": null,
   "id": "4c705087",
   "metadata": {},
   "outputs": [],
   "source": []
  }
 ],
 "metadata": {
  "kernelspec": {
   "display_name": "Python 3 (ipykernel)",
   "language": "python",
   "name": "python3"
  },
  "language_info": {
   "codemirror_mode": {
    "name": "ipython",
    "version": 3
   },
   "file_extension": ".py",
   "mimetype": "text/x-python",
   "name": "python",
   "nbconvert_exporter": "python",
   "pygments_lexer": "ipython3",
   "version": "3.9.7"
  },
  "widgets": {
   "application/vnd.jupyter.widget-state+json": {
    "state": {},
    "version_major": 2,
    "version_minor": 0
   }
  }
 },
 "nbformat": 4,
 "nbformat_minor": 5
}
