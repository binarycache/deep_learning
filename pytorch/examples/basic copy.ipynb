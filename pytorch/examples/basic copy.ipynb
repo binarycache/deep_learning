{
 "cells": [
  {
   "cell_type": "code",
   "execution_count": 18,
   "metadata": {},
   "outputs": [],
   "source": [
    "import torch\n",
    "from _utils_examples import fmnist_data, get_logpath\n",
    "from backpack import extend, extensions\n",
    "\n",
    "from cockpit import Cockpit, CockpitPlotter\n",
    "from cockpit.utils.configuration import configuration\n",
    "from cockpit.utils import schedules\n",
    "from PIL import Image\n",
    "from IPython.display import display, clear_output\n",
    "\n",
    "from cockpit import quantities\n",
    "from cockpit.utils.configuration import quantities_cls_for_configuration"
   ]
  },
  {
   "cell_type": "code",
   "execution_count": 19,
   "metadata": {},
   "outputs": [],
   "source": [
    "# Build Fashion-MNIST classifier\n",
    "data = fmnist_data(batch_size=32)\n",
    "model = extend(torch.nn.Sequential(torch.nn.Flatten(), torch.nn.Linear(784, 10)))\n",
    "loss_fn = extend(torch.nn.CrossEntropyLoss(reduction=\"mean\"))\n",
    "individual_loss_fn = torch.nn.CrossEntropyLoss(reduction=\"none\")\n",
    "\n",
    "# Create SGD Optimizer\n",
    "opt = torch.optim.SGD(model.parameters(), lr=1e-2)\n",
    "\n",
    "# Create Cockpit and a plotter\n",
    "cockpit = Cockpit(model.parameters(), quantities=configuration(\"full\"))\n",
    "plotter = CockpitPlotter()"
   ]
  },
  {
   "cell_type": "code",
   "execution_count": 22,
   "metadata": {},
   "outputs": [
    {
     "name": "stdout",
     "output_type": "stream",
     "text": [
      "[cockpit|plot] Saving figure in /data/github/deep_learning/pytorch/logfiles/cockpit_output/cockpit__primary__epoch__10.png\n",
      "[cockpit|plot] Saving figure in /data/github/deep_learning/pytorch/logfiles/cockpit_output/cockpit__primary__epoch__20.png\n",
      "[cockpit|plot] Saving figure in /data/github/deep_learning/pytorch/logfiles/cockpit_output/cockpit__primary__epoch__30.png\n",
      "[cockpit|plot] Saving figure in /data/github/deep_learning/pytorch/logfiles/cockpit_output/cockpit__primary__epoch__40.png\n",
      "[cockpit|plot] Saving figure in /data/github/deep_learning/pytorch/logfiles/cockpit_output/cockpit__primary__epoch__50.png\n",
      "[cockpit] writing output to /data/github/deep_learning/pytorch/logfiles/cockpit_output.json\n",
      "[cockpit|plot] Saving figure in /data/github/deep_learning/pytorch/logfiles/cockpit_output/cockpit__primary___final.png\n"
     ]
    }
   ],
   "source": [
    "# Main training loop\n",
    "max_steps, global_step = 50, 0\n",
    "for inputs, labels in iter(data):\n",
    "    opt.zero_grad()\n",
    "\n",
    "    # forward pass\n",
    "    outputs = model(inputs)\n",
    "    loss = loss_fn(outputs, labels)\n",
    "    losses = individual_loss_fn(outputs, labels)\n",
    "\n",
    "    # backward pass\n",
    "    with cockpit(\n",
    "        global_step,\n",
    "        extensions.DiagHessian(),  # Other BackPACK quantities can be computed as well\n",
    "        info={\n",
    "            \"batch_size\": inputs.shape[0],\n",
    "            \"individual_losses\": losses,\n",
    "            \"loss\": loss,\n",
    "            \"optimizer\": opt,\n",
    "        },\n",
    "    ):\n",
    "        loss.backward(create_graph=cockpit.create_graph(global_step))\n",
    "\n",
    "    # optimizer step\n",
    "    opt.step()\n",
    "    global_step += 1\n",
    "\n",
    "    if global_step % 10 == 0:\n",
    "        plotter.plot(\n",
    "            cockpit,\n",
    "            savedir=get_logpath(),\n",
    "            show_plot=False,\n",
    "            save_plot=True,\n",
    "            savename_append=\"epoch__\"+str(global_step),\n",
    "        )\n",
    "\n",
    "    if global_step >= max_steps:\n",
    "        break\n",
    "\n",
    "# Write Cockpit to json file.\n",
    "cockpit.write(get_logpath())\n",
    "\n",
    "# Plot results from file\n",
    "plotter.plot(\n",
    "    get_logpath(),\n",
    "    savedir=get_logpath(),\n",
    "    show_plot=False,\n",
    "    save_plot=True,\n",
    "    savename_append=\"_final\",\n",
    ")"
   ]
  },
  {
   "cell_type": "code",
   "execution_count": 36,
   "metadata": {},
   "outputs": [],
   "source": [
    "import glob\n",
    "logpath = get_logpath() + '/cockpit'\n",
    "screen = 'primary'\n",
    "pattern = os.path.splitext(logpath)[0] + f\"__{screen}__epoch__*.png\"\n",
    "\n",
    "frame_paths = sorted(glob.glob(pattern))\n",
    "frame, *frames = [Image.open(f) for f in frame_paths]"
   ]
  },
  {
   "cell_type": "code",
   "execution_count": 38,
   "metadata": {},
   "outputs": [
    {
     "data": {
      "text/plain": [
       "[<PIL.PngImagePlugin.PngImageFile image mode=RGBA size=2160x1080 at 0x7FB7868E5A60>,\n",
       " <PIL.PngImagePlugin.PngImageFile image mode=RGBA size=2160x1080 at 0x7FB786D85BB0>,\n",
       " <PIL.PngImagePlugin.PngImageFile image mode=RGBA size=2160x1080 at 0x7FB7866ADCA0>,\n",
       " <PIL.PngImagePlugin.PngImageFile image mode=RGBA size=2160x1080 at 0x7FB7866ADEE0>]"
      ]
     },
     "execution_count": 38,
     "metadata": {},
     "output_type": "execute_result"
    }
   ],
   "source": [
    "frames"
   ]
  },
  {
   "cell_type": "code",
   "execution_count": 33,
   "metadata": {},
   "outputs": [
    {
     "data": {
      "text/plain": [
       "'/data/github/deep_learning/pytorch/logfiles/cockpit_output'"
      ]
     },
     "execution_count": 33,
     "metadata": {},
     "output_type": "execute_result"
    }
   ],
   "source": [
    "logpath"
   ]
  },
  {
   "cell_type": "code",
   "execution_count": 35,
   "metadata": {},
   "outputs": [
    {
     "data": {
      "text/plain": [
       "'/data/github/deep_learning/pytorch/logfiles/cockpit_output__primary__epoch__*.png'"
      ]
     },
     "execution_count": 35,
     "metadata": {},
     "output_type": "execute_result"
    }
   ],
   "source": [
    "os.path.splitext(logpath)[0] + f\"__{screen}__epoch__*.png\""
   ]
  },
  {
   "cell_type": "code",
   "execution_count": 39,
   "metadata": {},
   "outputs": [
    {
     "name": "stdout",
     "output_type": "stream",
     "text": [
      "[cockpit|animate] Saving GIF in /data/github/deep_learning/pytorch/logfiles/cockpit_output/cockpit__primary.gif\n"
     ]
    }
   ],
   "source": [
    "plotter.build_animation(get_logpath() + '/cockpit')"
   ]
  },
  {
   "cell_type": "code",
   "execution_count": null,
   "metadata": {},
   "outputs": [],
   "source": []
  }
 ],
 "metadata": {
  "interpreter": {
   "hash": "c207b5e043e2b6ee029cb1f3c7633378ed9ad895d49c50d408b3ba611a8a833e"
  },
  "kernelspec": {
   "display_name": "Python 3.9.7 ('torch')",
   "language": "python",
   "name": "python3"
  },
  "language_info": {
   "codemirror_mode": {
    "name": "ipython",
    "version": 3
   },
   "file_extension": ".py",
   "mimetype": "text/x-python",
   "name": "python",
   "nbconvert_exporter": "python",
   "pygments_lexer": "ipython3",
   "version": "3.9.7"
  },
  "orig_nbformat": 4
 },
 "nbformat": 4,
 "nbformat_minor": 2
}
