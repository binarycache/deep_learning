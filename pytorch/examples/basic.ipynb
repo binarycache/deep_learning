{
 "cells": [
  {
   "cell_type": "code",
   "execution_count": 1,
   "metadata": {},
   "outputs": [],
   "source": [
    "import torch\n",
    "from _utils_examples import fmnist_data\n",
    "from backpack import extend\n",
    "\n",
    "from cockpit import Cockpit, CockpitPlotter\n",
    "from cockpit.utils.configuration import configuration\n",
    "\n",
    "from IPython.display import display, clear_output"
   ]
  },
  {
   "cell_type": "code",
   "execution_count": 2,
   "metadata": {},
   "outputs": [],
   "source": [
    "# Build Fashion-MNIST classifier\n",
    "fmnist_data = fmnist_data()\n",
    "model = extend(torch.nn.Sequential(torch.nn.Flatten(), torch.nn.Linear(784, 10)))\n",
    "loss_fn = extend(torch.nn.CrossEntropyLoss(reduction=\"mean\"))\n",
    "individual_loss_fn = torch.nn.CrossEntropyLoss(reduction=\"none\")\n",
    "\n",
    "# Create SGD Optimizer\n",
    "opt = torch.optim.SGD(model.parameters(), lr=1e-2)\n",
    "\n",
    "# Create Cockpit and a plotter\n",
    "cockpit = Cockpit(model.parameters(), quantities=configuration(\"full\"))\n",
    "plotter = CockpitPlotter()"
   ]
  },
  {
   "cell_type": "code",
   "execution_count": 5,
   "metadata": {},
   "outputs": [
    {
     "name": "stdout",
     "output_type": "stream",
     "text": [
      "Step:     1 | Loss: 1.7912\n",
      "[cockpit|plot] Showing current Cockpit.\n",
      "[cockpit|plot] Saving figure in ./cockpit__primary.png\n",
      "Step:     2 | Loss: 1.7976\n",
      "[cockpit|plot] Showing current Cockpit.\n",
      "[cockpit|plot] Saving figure in ./cockpit__primary.png\n",
      "Step:     3 | Loss: 1.6335\n",
      "[cockpit|plot] Showing current Cockpit.\n",
      "[cockpit|plot] Saving figure in ./cockpit__primary.png\n",
      "[cockpit|plot] Showing current Cockpit.\n"
     ]
    }
   ],
   "source": [
    "# Main training loop\n",
    "max_steps, global_step = 3, 0\n",
    "for inputs, labels in iter(fmnist_data):\n",
    "    opt.zero_grad()\n",
    "\n",
    "    # forward pass\n",
    "    outputs = model(inputs)\n",
    "    loss = loss_fn(outputs, labels)\n",
    "    losses = individual_loss_fn(outputs, labels)\n",
    "\n",
    "    # backward pass\n",
    "    with cockpit(\n",
    "        global_step,\n",
    "        info={\n",
    "            \"batch_size\": inputs.shape[0],\n",
    "            \"individual_losses\": losses,\n",
    "            \"loss\": loss,\n",
    "            \"optimizer\": opt,\n",
    "        },\n",
    "    ):\n",
    "        loss.backward(create_graph=cockpit.create_graph(global_step))\n",
    "\n",
    "    # optimizer step\n",
    "    opt.step()\n",
    "    global_step += 1\n",
    "\n",
    "    print(f\"Step: {global_step:5d} | Loss: {loss.item():.4f}\")\n",
    "    #clear_output(wait=True)  # for jupyter notebook\n",
    "    plotter.plot(cockpit, save_plot=True, savedir=\".\")\n",
    "   \n",
    "    if global_step >= max_steps:\n",
    "        break\n",
    "plotter.plot(cockpit)"
   ]
  },
  {
   "cell_type": "code",
   "execution_count": null,
   "metadata": {},
   "outputs": [],
   "source": []
  },
  {
   "cell_type": "code",
   "execution_count": null,
   "metadata": {},
   "outputs": [],
   "source": []
  }
 ],
 "metadata": {
  "interpreter": {
   "hash": "c207b5e043e2b6ee029cb1f3c7633378ed9ad895d49c50d408b3ba611a8a833e"
  },
  "kernelspec": {
   "display_name": "Python 3.9.7 ('torch')",
   "language": "python",
   "name": "python3"
  },
  "language_info": {
   "codemirror_mode": {
    "name": "ipython",
    "version": 3
   },
   "file_extension": ".py",
   "mimetype": "text/x-python",
   "name": "python",
   "nbconvert_exporter": "python",
   "pygments_lexer": "ipython3",
   "version": "3.9.7"
  },
  "orig_nbformat": 4
 },
 "nbformat": 4,
 "nbformat_minor": 2
}
